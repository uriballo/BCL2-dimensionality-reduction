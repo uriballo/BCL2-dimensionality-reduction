{
 "cells": [
  {
   "cell_type": "code",
   "execution_count": 1,
   "metadata": {},
   "outputs": [],
   "source": [
    "using MAT\n",
    "using DataStructures\n",
    "using LinearAlgebra"
   ]
  },
  {
   "cell_type": "markdown",
   "metadata": {},
   "source": [
    "# Step 1: Identification of modules"
   ]
  },
  {
   "cell_type": "markdown",
   "metadata": {},
   "source": [
    "First, we load the precomputed matrices from MATLAB."
   ]
  },
  {
   "cell_type": "code",
   "execution_count": 3,
   "metadata": {},
   "outputs": [
    {
     "name": "stdout",
     "output_type": "stream",
     "text": [
      "Matrix dimensions:\n",
      "\t[S] Adjacency matrix: (31, 31)\n",
      "\t[G1] Cluster 1: (13, 13)\n",
      "\t[G2] Cluster 2: (12, 12)\n",
      "\t[G3] Cluster 3: (6, 6)\n"
     ]
    }
   ],
   "source": [
    "adjacency_file = matopen(\"./matrices/adjacency-reduced-weighted.mat\")\n",
    "cluster1_file = matopen(\"./matrices/S1-weighted.mat\")\n",
    "cluster2_file = matopen(\"./matrices/S2-weighted.mat\")\n",
    "cluster3_file = matopen(\"./matrices/S3-weighted.mat\")\n",
    "\n",
    "S = read(adjacency_file, \"adj_mat\")\n",
    "G1 = read(cluster1_file, \"S1\")\n",
    "G2 = read(cluster2_file, \"S2\")\n",
    "G3 = read(cluster3_file, \"S3\")\n",
    "\n",
    "s_dim = size(S)\n",
    "g1_dim = size(G1)\n",
    "g2_dim = size(G2)\n",
    "g3_dim = size(G3)\n",
    "\n",
    "println(\"Matrix dimensions:\")\n",
    "println(\"\\t[S] Adjacency matrix: \", s_dim)\n",
    "println(\"\\t[G1] Cluster 1: \", g1_dim)\n",
    "println(\"\\t[G2] Cluster 2: \", g2_dim)\n",
    "println(\"\\t[G3] Cluster 3: \", g3_dim)"
   ]
  },
  {
   "cell_type": "markdown",
   "metadata": {},
   "source": [
    "## Adjacency submatrices\n",
    "\n",
    "$W_{vp}$ is the submatrix of size $m_v \\times m_p$ consisting of all interactions from $G_p$ and $G_v$.\n",
    "\n",
    "($m_i$ is the size of the cluster $i$)"
   ]
  },
  {
   "cell_type": "markdown",
   "metadata": {},
   "source": [
    "$$W_{12}$$"
   ]
  },
  {
   "cell_type": "code",
   "execution_count": 4,
   "metadata": {},
   "outputs": [
    {
     "data": {
      "text/plain": [
       "12×13 Matrix{Float64}:\n",
       " 0.0  0.0  0.0  0.0  0.0  0.0  0.0  0.0  0.0  0.0  0.0  0.0  0.0\n",
       " 0.0  0.0  0.0  0.0  0.0  0.0  0.0  0.0  0.0  0.1  0.0  0.0  0.0\n",
       " 0.0  0.0  0.0  0.0  0.0  0.0  0.0  0.0  0.0  0.0  0.1  0.0  0.0\n",
       " 0.0  0.0  0.0  0.0  0.0  0.0  0.0  0.0  0.0  0.0  0.0  0.1  0.0\n",
       " 0.0  0.0  0.0  0.0  0.0  0.0  0.0  0.0  0.0  0.0  0.0  0.0  0.1\n",
       " 0.0  0.0  0.0  0.0  0.0  0.1  0.0  0.0  0.0  0.0  0.0  0.0  0.0\n",
       " 0.0  0.0  0.0  0.0  0.0  0.0  0.1  0.0  0.0  0.0  0.0  0.0  0.0\n",
       " 0.0  0.0  0.0  0.0  0.0  0.0  0.0  0.1  0.0  0.0  0.0  0.0  0.0\n",
       " 0.0  0.0  0.0  0.0  0.0  0.0  0.0  0.0  0.0  0.0  0.0  0.0  0.0\n",
       " 0.0  0.0  0.0  0.0  0.0  0.0  0.0  0.0  0.0  0.0  0.0  0.0  0.0\n",
       " 0.0  0.0  0.0  0.0  0.0  0.0  0.0  0.0  0.0  0.0  0.0  0.0  0.0\n",
       " 0.0  0.0  0.0  0.0  0.0  0.0  0.0  0.0  0.0  0.0  0.0  0.0  0.0"
      ]
     },
     "metadata": {},
     "output_type": "display_data"
    }
   ],
   "source": [
    "row_start = g1_dim[1]+1\n",
    "row_end = g1_dim[1] + g2_dim[1]\n",
    "col_start = 1\n",
    "col_end = g1_dim[2]\n",
    "W12 = S[row_start:row_end, col_start:col_end]"
   ]
  },
  {
   "cell_type": "markdown",
   "metadata": {},
   "source": [
    "$$W_{21}$$"
   ]
  },
  {
   "cell_type": "code",
   "execution_count": 5,
   "metadata": {},
   "outputs": [
    {
     "data": {
      "text/plain": [
       "13×12 Matrix{Float64}:\n",
       " 0.0  0.0  0.0  0.0  0.0  0.0  0.0  0.0  0.0  0.0  0.0  0.0\n",
       " 0.0  0.0  0.0  0.0  0.0  0.0  0.0  0.0  0.0  0.0  0.0  0.0\n",
       " 0.0  0.0  0.0  0.0  0.0  0.0  0.0  0.0  0.0  0.0  0.0  0.0\n",
       " 0.0  0.0  0.0  0.0  0.0  0.0  0.0  0.0  0.0  0.0  0.0  0.0\n",
       " 0.0  0.0  0.0  0.0  0.0  0.0  0.0  0.0  0.0  0.0  0.0  0.0\n",
       " 0.0  0.0  0.0  0.0  0.0  0.1  0.0  0.0  0.0  0.0  0.0  0.0\n",
       " 0.0  0.0  0.0  0.0  0.0  0.0  0.1  0.0  0.0  0.0  0.0  0.0\n",
       " 0.0  0.0  0.0  0.0  0.0  0.0  0.0  0.1  0.0  0.0  0.0  0.0\n",
       " 0.0  0.0  0.0  0.0  0.0  0.0  0.0  0.0  0.0  0.0  0.0  0.0\n",
       " 0.0  0.1  0.0  0.0  0.0  0.0  0.0  0.0  0.0  0.0  0.0  0.0\n",
       " 0.0  0.0  0.1  0.0  0.0  0.0  0.0  0.0  0.0  0.0  0.0  0.0\n",
       " 0.0  0.0  0.0  0.1  0.0  0.0  0.0  0.0  0.0  0.0  0.0  0.0\n",
       " 0.0  0.0  0.0  0.0  0.1  0.0  0.0  0.0  0.0  0.0  0.0  0.0"
      ]
     },
     "metadata": {},
     "output_type": "display_data"
    }
   ],
   "source": [
    "row_start = 1\n",
    "row_end = g1_dim[1]\n",
    "col_start = g1_dim[2] + 1                            # Same column range as W12\n",
    "col_end = col_start -1 + g2_dim[2]\n",
    "W21 = S[row_start:row_end, col_start:col_end]"
   ]
  },
  {
   "cell_type": "code",
   "execution_count": 6,
   "metadata": {},
   "outputs": [
    {
     "data": {
      "text/plain": [
       "true"
      ]
     },
     "metadata": {},
     "output_type": "display_data"
    }
   ],
   "source": [
    "W12 == W21' # The matrix is symmetric, thus we only need the transpose."
   ]
  },
  {
   "cell_type": "markdown",
   "metadata": {},
   "source": [
    "$$W_{13}$$"
   ]
  },
  {
   "cell_type": "code",
   "execution_count": 7,
   "metadata": {},
   "outputs": [
    {
     "data": {
      "text/plain": [
       "6×13 Matrix{Float64}:\n",
       " 0.0  0.0  0.0  0.0  0.0  0.0  0.0  0.0  0.0  0.0  0.0  0.0  0.0\n",
       " 0.0  0.0  0.0  0.0  0.0  0.0  0.0  0.0  0.0  0.0  0.0  0.0  0.0\n",
       " 0.0  0.0  0.0  0.0  0.0  0.0  0.0  0.0  0.0  0.0  0.0  0.0  0.0\n",
       " 0.0  0.0  0.0  0.0  0.0  0.0  0.0  0.0  0.0  0.0  0.0  0.0  0.0\n",
       " 0.0  0.0  0.0  0.0  0.0  0.0  0.0  0.0  0.0  0.0  0.0  0.0  0.0\n",
       " 0.0  0.0  0.0  0.0  0.0  0.0  0.0  0.0  0.0  0.0  0.0  0.0  0.0"
      ]
     },
     "metadata": {},
     "output_type": "display_data"
    }
   ],
   "source": [
    "row_start = g1_dim[1] + g2_dim[1] +1\n",
    "row_end = g1_dim[1] + g2_dim[1] + g3_dim[1]\n",
    "col_start = 1\n",
    "col_end = g1_dim[2]\n",
    "W13 = S[row_start:row_end, col_start:col_end]"
   ]
  },
  {
   "cell_type": "markdown",
   "metadata": {},
   "source": [
    "$$W_{31}$$"
   ]
  },
  {
   "cell_type": "code",
   "execution_count": 8,
   "metadata": {},
   "outputs": [
    {
     "data": {
      "text/plain": [
       "13×6 adjoint(::Matrix{Float64}) with eltype Float64:\n",
       " 0.0  0.0  0.0  0.0  0.0  0.0\n",
       " 0.0  0.0  0.0  0.0  0.0  0.0\n",
       " 0.0  0.0  0.0  0.0  0.0  0.0\n",
       " 0.0  0.0  0.0  0.0  0.0  0.0\n",
       " 0.0  0.0  0.0  0.0  0.0  0.0\n",
       " 0.0  0.0  0.0  0.0  0.0  0.0\n",
       " 0.0  0.0  0.0  0.0  0.0  0.0\n",
       " 0.0  0.0  0.0  0.0  0.0  0.0\n",
       " 0.0  0.0  0.0  0.0  0.0  0.0\n",
       " 0.0  0.0  0.0  0.0  0.0  0.0\n",
       " 0.0  0.0  0.0  0.0  0.0  0.0\n",
       " 0.0  0.0  0.0  0.0  0.0  0.0\n",
       " 0.0  0.0  0.0  0.0  0.0  0.0"
      ]
     },
     "metadata": {},
     "output_type": "display_data"
    }
   ],
   "source": [
    "W31 = W13'\n",
    "W31"
   ]
  },
  {
   "cell_type": "markdown",
   "metadata": {},
   "source": [
    "$$W_{23}$$"
   ]
  },
  {
   "cell_type": "code",
   "execution_count": 9,
   "metadata": {},
   "outputs": [
    {
     "data": {
      "text/plain": [
       "6×12 Matrix{Float64}:\n",
       " 0.0  0.0  0.0  0.0  0.0  0.0  0.0  0.0  0.0  0.0  70.0001   0.0\n",
       " 0.0  0.0  0.0  0.0  0.0  0.0  0.0  0.0  0.0  0.0   0.0      0.0\n",
       " 0.0  0.0  0.0  0.0  0.0  0.0  0.0  0.0  0.0  0.0   0.0     70.0001\n",
       " 0.0  0.0  0.0  0.0  0.0  0.0  0.0  0.0  0.0  0.0   0.0      0.0\n",
       " 0.0  0.0  0.0  0.0  0.0  0.0  0.0  0.0  0.0  0.0   0.0      0.0\n",
       " 0.0  0.0  0.0  0.0  0.0  0.0  0.0  0.0  0.0  0.0   0.0      0.0"
      ]
     },
     "metadata": {},
     "output_type": "display_data"
    }
   ],
   "source": [
    "row_start = g1_dim[1] + g2_dim[1] +1\n",
    "row_end = g1_dim[1] + g2_dim[1] + g3_dim[1]\n",
    "col_start = g1_dim[2]+1\n",
    "col_end = g1_dim[2] + g2_dim[2]\n",
    "W23  = S[row_start:row_end, col_start:col_end]"
   ]
  },
  {
   "cell_type": "markdown",
   "metadata": {},
   "source": [
    "$$W_{32}$$"
   ]
  },
  {
   "cell_type": "code",
   "execution_count": 10,
   "metadata": {},
   "outputs": [
    {
     "data": {
      "text/plain": [
       "12×6 adjoint(::Matrix{Float64}) with eltype Float64:\n",
       "  0.0     0.0   0.0     0.0  0.0  0.0\n",
       "  0.0     0.0   0.0     0.0  0.0  0.0\n",
       "  0.0     0.0   0.0     0.0  0.0  0.0\n",
       "  0.0     0.0   0.0     0.0  0.0  0.0\n",
       "  0.0     0.0   0.0     0.0  0.0  0.0\n",
       "  0.0     0.0   0.0     0.0  0.0  0.0\n",
       "  0.0     0.0   0.0     0.0  0.0  0.0\n",
       "  0.0     0.0   0.0     0.0  0.0  0.0\n",
       "  0.0     0.0   0.0     0.0  0.0  0.0\n",
       "  0.0     0.0   0.0     0.0  0.0  0.0\n",
       " 70.0001  0.0   0.0     0.0  0.0  0.0\n",
       "  0.0     0.0  70.0001  0.0  0.0  0.0"
      ]
     },
     "metadata": {},
     "output_type": "display_data"
    }
   ],
   "source": [
    "W32 = W23'\n",
    "W32"
   ]
  },
  {
   "cell_type": "markdown",
   "metadata": {},
   "source": [
    "## Diagonal in-degree submatrices \n",
    "\n",
    "$K_{vp}$ is the in-degree matrix of size $m_v \\times m_v$ from $G_p$ to $G_v$.\n",
    "\n",
    "$$K_{vp} = \\text{diag}(k_{i_1}^p,\\dots, k_{i_{m_v}}^p)$$\n",
    "$k_i^p = \\sum_{j\\in G_p} w_{ij}$"
   ]
  },
  {
   "cell_type": "markdown",
   "metadata": {},
   "source": [
    "$$K_{vp}$$\n",
    "\n",
    "$$K_{11} = \\sum_j w_{1j}$$"
   ]
  },
  {
   "cell_type": "code",
   "execution_count": 11,
   "metadata": {},
   "outputs": [
    {
     "data": {
      "text/plain": [
       "compute_in_degree (generic function with 1 method)"
      ]
     },
     "metadata": {},
     "output_type": "display_data"
    }
   ],
   "source": [
    "function compute_in_degree(W::Matrix)\n",
    "    # Initialize an empty vector to store the sums of each column\n",
    "    sums = zeros(size(W, 2))\n",
    "    \n",
    "    # Iterate over each column of W and calculate the sum\n",
    "    for i in 1:size(W, 2)\n",
    "        sums[i] = sum(W[:, i])\n",
    "    end\n",
    "    \n",
    "    # Construct the diagonal matrix K using the computed sums\n",
    "    K = Diagonal(sums)\n",
    "    \n",
    "    return K\n",
    "end"
   ]
  },
  {
   "cell_type": "code",
   "execution_count": 12,
   "metadata": {},
   "outputs": [],
   "source": [
    "K11 = compute_in_degree(G1)\n",
    "K22 = compute_in_degree(G2)\n",
    "K33 = compute_in_degree(G3);"
   ]
  },
  {
   "cell_type": "code",
   "execution_count": 13,
   "metadata": {},
   "outputs": [
    {
     "data": {
      "text/plain": [
       "13×13 Diagonal{Float64, Vector{Float64}}:\n",
       " 22635.5       ⋅        ⋅       ⋅    …      ⋅    ⋅        ⋅         ⋅ \n",
       "      ⋅   10060.0       ⋅       ⋅           ⋅    ⋅        ⋅         ⋅ \n",
       "      ⋅        ⋅   10060.0      ⋅           ⋅    ⋅        ⋅         ⋅ \n",
       "      ⋅        ⋅        ⋅   1377.76         ⋅    ⋅        ⋅         ⋅ \n",
       "      ⋅        ⋅        ⋅       ⋅           ⋅    ⋅        ⋅         ⋅ \n",
       "      ⋅        ⋅        ⋅       ⋅    …      ⋅    ⋅        ⋅         ⋅ \n",
       "      ⋅        ⋅        ⋅       ⋅           ⋅    ⋅        ⋅         ⋅ \n",
       "      ⋅        ⋅        ⋅       ⋅           ⋅    ⋅        ⋅         ⋅ \n",
       "      ⋅        ⋅        ⋅       ⋅           ⋅    ⋅        ⋅         ⋅ \n",
       "      ⋅        ⋅        ⋅       ⋅       1013.1   ⋅        ⋅         ⋅ \n",
       "      ⋅        ⋅        ⋅       ⋅    …      ⋅   5.69756   ⋅         ⋅ \n",
       "      ⋅        ⋅        ⋅       ⋅           ⋅    ⋅       2.7832e5   ⋅ \n",
       "      ⋅        ⋅        ⋅       ⋅           ⋅    ⋅        ⋅        0.493903"
      ]
     },
     "metadata": {},
     "output_type": "display_data"
    }
   ],
   "source": [
    "K11"
   ]
  },
  {
   "cell_type": "code",
   "execution_count": 14,
   "metadata": {},
   "outputs": [
    {
     "data": {
      "text/plain": [
       "12×12 Diagonal{Float64, Vector{Float64}}:\n",
       " 10.0   ⋅            ⋅         ⋅    …       ⋅        ⋅       ⋅        ⋅ \n",
       "   ⋅   1.00022e7     ⋅         ⋅            ⋅        ⋅       ⋅        ⋅ \n",
       "   ⋅    ⋅         580.126      ⋅            ⋅        ⋅       ⋅        ⋅ \n",
       "   ⋅    ⋅            ⋅     5074.52          ⋅        ⋅       ⋅        ⋅ \n",
       "   ⋅    ⋅            ⋅         ⋅            ⋅        ⋅       ⋅        ⋅ \n",
       "   ⋅    ⋅            ⋅         ⋅    …       ⋅        ⋅       ⋅        ⋅ \n",
       "   ⋅    ⋅            ⋅         ⋅            ⋅        ⋅       ⋅        ⋅ \n",
       "   ⋅    ⋅            ⋅         ⋅            ⋅        ⋅       ⋅        ⋅ \n",
       "   ⋅    ⋅            ⋅         ⋅       20219.0       ⋅       ⋅        ⋅ \n",
       "   ⋅    ⋅            ⋅         ⋅            ⋅   20209.0      ⋅        ⋅ \n",
       "   ⋅    ⋅            ⋅         ⋅    …       ⋅        ⋅   1865.79      ⋅ \n",
       "   ⋅    ⋅            ⋅         ⋅            ⋅        ⋅       ⋅    1491.18"
      ]
     },
     "metadata": {},
     "output_type": "display_data"
    }
   ],
   "source": [
    "K22"
   ]
  },
  {
   "cell_type": "code",
   "execution_count": 15,
   "metadata": {},
   "outputs": [
    {
     "data": {
      "text/plain": [
       "6×6 Diagonal{Float64, Vector{Float64}}:\n",
       " 140.012     ⋅      ⋅      ⋅      ⋅        ⋅ \n",
       "    ⋅     140.0     ⋅      ⋅      ⋅        ⋅ \n",
       "    ⋅        ⋅   140.0     ⋅      ⋅        ⋅ \n",
       "    ⋅        ⋅      ⋅   140.0     ⋅        ⋅ \n",
       "    ⋅        ⋅      ⋅      ⋅   520.012     ⋅ \n",
       "    ⋅        ⋅      ⋅      ⋅      ⋅     240.0"
      ]
     },
     "metadata": {},
     "output_type": "display_data"
    }
   ],
   "source": [
    "K33"
   ]
  },
  {
   "cell_type": "code",
   "execution_count": 16,
   "metadata": {},
   "outputs": [
    {
     "data": {
      "text/plain": [
       "12×12 Diagonal{Float64, Vector{Float64}}:\n",
       " 0.0   ⋅    ⋅    ⋅    ⋅    ⋅    ⋅    ⋅    ⋅    ⋅     ⋅        ⋅ \n",
       "  ⋅   0.0   ⋅    ⋅    ⋅    ⋅    ⋅    ⋅    ⋅    ⋅     ⋅        ⋅ \n",
       "  ⋅    ⋅   0.0   ⋅    ⋅    ⋅    ⋅    ⋅    ⋅    ⋅     ⋅        ⋅ \n",
       "  ⋅    ⋅    ⋅   0.0   ⋅    ⋅    ⋅    ⋅    ⋅    ⋅     ⋅        ⋅ \n",
       "  ⋅    ⋅    ⋅    ⋅   0.0   ⋅    ⋅    ⋅    ⋅    ⋅     ⋅        ⋅ \n",
       "  ⋅    ⋅    ⋅    ⋅    ⋅   0.0   ⋅    ⋅    ⋅    ⋅     ⋅        ⋅ \n",
       "  ⋅    ⋅    ⋅    ⋅    ⋅    ⋅   0.0   ⋅    ⋅    ⋅     ⋅        ⋅ \n",
       "  ⋅    ⋅    ⋅    ⋅    ⋅    ⋅    ⋅   0.0   ⋅    ⋅     ⋅        ⋅ \n",
       "  ⋅    ⋅    ⋅    ⋅    ⋅    ⋅    ⋅    ⋅   0.0   ⋅     ⋅        ⋅ \n",
       "  ⋅    ⋅    ⋅    ⋅    ⋅    ⋅    ⋅    ⋅    ⋅   0.0    ⋅        ⋅ \n",
       "  ⋅    ⋅    ⋅    ⋅    ⋅    ⋅    ⋅    ⋅    ⋅    ⋅   70.0001    ⋅ \n",
       "  ⋅    ⋅    ⋅    ⋅    ⋅    ⋅    ⋅    ⋅    ⋅    ⋅     ⋅      70.0001"
      ]
     },
     "metadata": {},
     "output_type": "display_data"
    }
   ],
   "source": [
    "K12 = compute_in_degree(W12)\n",
    "K13 = compute_in_degree(W13)\n",
    "K23 = compute_in_degree(W23);\n",
    "\n",
    "#K21 = compute_in_degree(W21)\n",
    "#K31 = compute_in_degree(W31)\n",
    "#K32 = compute_in_degree(W32);"
   ]
  },
  {
   "cell_type": "code",
   "execution_count": 17,
   "metadata": {},
   "outputs": [
    {
     "data": {
      "text/plain": [
       "13×13 Diagonal{Float64, Vector{Float64}}:\n",
       " 0.0   ⋅    ⋅    ⋅    ⋅    ⋅    ⋅    ⋅    ⋅    ⋅    ⋅    ⋅    ⋅ \n",
       "  ⋅   0.0   ⋅    ⋅    ⋅    ⋅    ⋅    ⋅    ⋅    ⋅    ⋅    ⋅    ⋅ \n",
       "  ⋅    ⋅   0.0   ⋅    ⋅    ⋅    ⋅    ⋅    ⋅    ⋅    ⋅    ⋅    ⋅ \n",
       "  ⋅    ⋅    ⋅   0.0   ⋅    ⋅    ⋅    ⋅    ⋅    ⋅    ⋅    ⋅    ⋅ \n",
       "  ⋅    ⋅    ⋅    ⋅   0.0   ⋅    ⋅    ⋅    ⋅    ⋅    ⋅    ⋅    ⋅ \n",
       "  ⋅    ⋅    ⋅    ⋅    ⋅   0.1   ⋅    ⋅    ⋅    ⋅    ⋅    ⋅    ⋅ \n",
       "  ⋅    ⋅    ⋅    ⋅    ⋅    ⋅   0.1   ⋅    ⋅    ⋅    ⋅    ⋅    ⋅ \n",
       "  ⋅    ⋅    ⋅    ⋅    ⋅    ⋅    ⋅   0.1   ⋅    ⋅    ⋅    ⋅    ⋅ \n",
       "  ⋅    ⋅    ⋅    ⋅    ⋅    ⋅    ⋅    ⋅   0.0   ⋅    ⋅    ⋅    ⋅ \n",
       "  ⋅    ⋅    ⋅    ⋅    ⋅    ⋅    ⋅    ⋅    ⋅   0.1   ⋅    ⋅    ⋅ \n",
       "  ⋅    ⋅    ⋅    ⋅    ⋅    ⋅    ⋅    ⋅    ⋅    ⋅   0.1   ⋅    ⋅ \n",
       "  ⋅    ⋅    ⋅    ⋅    ⋅    ⋅    ⋅    ⋅    ⋅    ⋅    ⋅   0.1   ⋅ \n",
       "  ⋅    ⋅    ⋅    ⋅    ⋅    ⋅    ⋅    ⋅    ⋅    ⋅    ⋅    ⋅   0.1"
      ]
     },
     "metadata": {},
     "output_type": "display_data"
    }
   ],
   "source": [
    "K12"
   ]
  },
  {
   "cell_type": "code",
   "execution_count": 18,
   "metadata": {},
   "outputs": [
    {
     "data": {
      "text/plain": [
       "13×13 Diagonal{Float64, Vector{Float64}}:\n",
       " 0.0   ⋅    ⋅    ⋅    ⋅    ⋅    ⋅    ⋅    ⋅    ⋅    ⋅    ⋅    ⋅ \n",
       "  ⋅   0.0   ⋅    ⋅    ⋅    ⋅    ⋅    ⋅    ⋅    ⋅    ⋅    ⋅    ⋅ \n",
       "  ⋅    ⋅   0.0   ⋅    ⋅    ⋅    ⋅    ⋅    ⋅    ⋅    ⋅    ⋅    ⋅ \n",
       "  ⋅    ⋅    ⋅   0.0   ⋅    ⋅    ⋅    ⋅    ⋅    ⋅    ⋅    ⋅    ⋅ \n",
       "  ⋅    ⋅    ⋅    ⋅   0.0   ⋅    ⋅    ⋅    ⋅    ⋅    ⋅    ⋅    ⋅ \n",
       "  ⋅    ⋅    ⋅    ⋅    ⋅   0.0   ⋅    ⋅    ⋅    ⋅    ⋅    ⋅    ⋅ \n",
       "  ⋅    ⋅    ⋅    ⋅    ⋅    ⋅   0.0   ⋅    ⋅    ⋅    ⋅    ⋅    ⋅ \n",
       "  ⋅    ⋅    ⋅    ⋅    ⋅    ⋅    ⋅   0.0   ⋅    ⋅    ⋅    ⋅    ⋅ \n",
       "  ⋅    ⋅    ⋅    ⋅    ⋅    ⋅    ⋅    ⋅   0.0   ⋅    ⋅    ⋅    ⋅ \n",
       "  ⋅    ⋅    ⋅    ⋅    ⋅    ⋅    ⋅    ⋅    ⋅   0.0   ⋅    ⋅    ⋅ \n",
       "  ⋅    ⋅    ⋅    ⋅    ⋅    ⋅    ⋅    ⋅    ⋅    ⋅   0.0   ⋅    ⋅ \n",
       "  ⋅    ⋅    ⋅    ⋅    ⋅    ⋅    ⋅    ⋅    ⋅    ⋅    ⋅   0.0   ⋅ \n",
       "  ⋅    ⋅    ⋅    ⋅    ⋅    ⋅    ⋅    ⋅    ⋅    ⋅    ⋅    ⋅   0.0"
      ]
     },
     "metadata": {},
     "output_type": "display_data"
    }
   ],
   "source": [
    "K13"
   ]
  },
  {
   "cell_type": "code",
   "execution_count": 19,
   "metadata": {},
   "outputs": [
    {
     "data": {
      "text/plain": [
       "12×12 Diagonal{Float64, Vector{Float64}}:\n",
       " 0.0   ⋅    ⋅    ⋅    ⋅    ⋅    ⋅    ⋅    ⋅    ⋅     ⋅        ⋅ \n",
       "  ⋅   0.0   ⋅    ⋅    ⋅    ⋅    ⋅    ⋅    ⋅    ⋅     ⋅        ⋅ \n",
       "  ⋅    ⋅   0.0   ⋅    ⋅    ⋅    ⋅    ⋅    ⋅    ⋅     ⋅        ⋅ \n",
       "  ⋅    ⋅    ⋅   0.0   ⋅    ⋅    ⋅    ⋅    ⋅    ⋅     ⋅        ⋅ \n",
       "  ⋅    ⋅    ⋅    ⋅   0.0   ⋅    ⋅    ⋅    ⋅    ⋅     ⋅        ⋅ \n",
       "  ⋅    ⋅    ⋅    ⋅    ⋅   0.0   ⋅    ⋅    ⋅    ⋅     ⋅        ⋅ \n",
       "  ⋅    ⋅    ⋅    ⋅    ⋅    ⋅   0.0   ⋅    ⋅    ⋅     ⋅        ⋅ \n",
       "  ⋅    ⋅    ⋅    ⋅    ⋅    ⋅    ⋅   0.0   ⋅    ⋅     ⋅        ⋅ \n",
       "  ⋅    ⋅    ⋅    ⋅    ⋅    ⋅    ⋅    ⋅   0.0   ⋅     ⋅        ⋅ \n",
       "  ⋅    ⋅    ⋅    ⋅    ⋅    ⋅    ⋅    ⋅    ⋅   0.0    ⋅        ⋅ \n",
       "  ⋅    ⋅    ⋅    ⋅    ⋅    ⋅    ⋅    ⋅    ⋅    ⋅   70.0001    ⋅ \n",
       "  ⋅    ⋅    ⋅    ⋅    ⋅    ⋅    ⋅    ⋅    ⋅    ⋅     ⋅      70.0001"
      ]
     },
     "metadata": {},
     "output_type": "display_data"
    }
   ],
   "source": [
    "K23"
   ]
  },
  {
   "cell_type": "markdown",
   "metadata": {},
   "source": [
    "# Step 2: Construction of observables "
   ]
  },
  {
   "cell_type": "markdown",
   "metadata": {},
   "source": [
    "$$W_{vp}^\\prime \\hat a_v= \\lambda_{vp}^\\prime\\hat a_p$$\n",
    "we focus on fixed $v$, variable $p$."
   ]
  },
  {
   "cell_type": "markdown",
   "metadata": {},
   "source": [
    "$$W^\\prime_{vp} = W^T_{pp}\\quad \\text{ if }\\quad v=p\\quad \\text { or }\\quad W^\\prime_{vp} = W^T_{pv}W^T_{vp}\\quad \\text{ if }\\quad v\\ne p$$\n",
    "$$\\lambda^\\prime_{vp} = \\lambda_{pp}\\quad \\text{ if }\\quad v=p\\quad \\text { or }\\quad \\lambda^\\prime_{vp} = \\lambda_{pv}\\lambda_{vp}\\quad \\text{ if }\\quad v\\ne p$$"
   ]
  },
  {
   "cell_type": "code",
   "execution_count": 20,
   "metadata": {},
   "outputs": [
    {
     "name": "stdout",
     "output_type": "stream",
     "text": [
      "(13, 13)\n",
      "(12, 12)\n",
      "(6, 6)\n",
      "(13, 13)\n",
      "(12, 12)\n",
      "(13, 13)\n",
      "(6, 6)\n",
      "(12, 12)\n",
      "(6, 6)\n"
     ]
    }
   ],
   "source": [
    "W11p = G1'\n",
    "W12p = W12' * W21'\n",
    "W21p = W21' * W12'\n",
    "W13p = W13' * W31'\n",
    "W31p = W31' * W13'\n",
    "W22p = G2'\n",
    "W23p = W23' * W32'\n",
    "W32p = W32' * W23'\n",
    "W33p= G3'\n",
    "\n",
    "println(size(W11p))\n",
    "println(size(W22p))\n",
    "println(size(W33p))\n",
    "println(size(W12p))\n",
    "println(size(W21p))\n",
    "println(size(W13p))\n",
    "println(size(W31p))\n",
    "println(size(W23p))\n",
    "println(size(W32p))"
   ]
  },
  {
   "cell_type": "code",
   "execution_count": 21,
   "metadata": {},
   "outputs": [
    {
     "name": "stdout",
     "output_type": "stream",
     "text": [
      "λ₁₁: 278205.14894911315\n",
      "λ₂₂: 1.0000010084235592e7\n",
      "λ₃₃: 288.9110403580961\n",
      "λ₁₂: 0.00010000173124573948\n",
      "λ₁₃: 0.0\n",
      "λ₂₃: 2.401009604024009e7\n"
     ]
    }
   ],
   "source": [
    "# Eigenvalues\n",
    "λ11 = eigmax(G1)\n",
    "λ22 = eigmax(G2)\n",
    "λ33 = eigmax(G3)\n",
    "\n",
    "λ12 = eigmax(W12p) * eigmax(W21p)\n",
    "λ21 = λ12\n",
    "λ13 = eigmax(W13p) * eigmax(W31p)\n",
    "λ31 = λ13\n",
    "λ23 = eigmax(W23p) * eigmax(W32p)\n",
    "λ32 = λ23\n",
    "\n",
    "println(\"λ₁₁: \", λ11)\n",
    "println(\"λ₂₂: \", λ22)\n",
    "println(\"λ₃₃: \", λ33)\n",
    "println(\"λ₁₂: \", λ12)\n",
    "println(\"λ₁₃: \", λ13)\n",
    "println(\"λ₂₃: \", λ23)"
   ]
  },
  {
   "cell_type": "markdown",
   "metadata": {},
   "source": [
    "$$\\hat a_v= x_1u_1+\\dots+x_ru_r$$\n",
    "$$\\{u_i\\}\\in\\mathbb R^{m_v}$$\n",
    "$$m_v = |G_p|$$"
   ]
  },
  {
   "cell_type": "markdown",
   "metadata": {},
   "source": [
    "$$\\hat{\\mathbf{C}}\\ \\mathbf y = (0,\\dots,0,1)^T$$\n",
    "$$\\mathbf{y}:=(x_1,\\ \\dots\\ ,\\ x_r,\\ K)$$\n",
    "$$\\hat{\\mathbf C}=\\left(\\frac{C}{1^{T}}\\frac{-1}{0}\\right)$$\n",
    "$$C=(c_{st})_{s,t} \\quad\\text{ is }\\quad r\\times r$$"
   ]
  },
  {
   "cell_type": "markdown",
   "metadata": {},
   "source": [
    "$$c_{st}:=\\sum_{p=1}^n\\langle W^\\prime_{vp} u_s- \\lambda^\\prime_{vp} u_s,\\ W^\\prime_{vp} u_t- \\lambda^\\prime_{vp} u_t\\rangle$$"
   ]
  },
  {
   "cell_type": "markdown",
   "metadata": {},
   "source": [
    "A solution that is not restricted to a particular subspace is obtained when $r = m_v$ and $u_1,\\dots, u_{m_v}$ is the canonical basis of $\\mathbb R^{m_v}$. This solution is the one with the smallest error."
   ]
  },
  {
   "cell_type": "markdown",
   "metadata": {},
   "source": [
    "## Reduction Vectors"
   ]
  },
  {
   "cell_type": "code",
   "execution_count": 22,
   "metadata": {},
   "outputs": [
    {
     "data": {
      "text/plain": [
       "6×6 Matrix{Float64}:\n",
       " 1.0  0.0  0.0  0.0  0.0  0.0\n",
       " 0.0  1.0  0.0  0.0  0.0  0.0\n",
       " 0.0  0.0  1.0  0.0  0.0  0.0\n",
       " 0.0  0.0  0.0  1.0  0.0  0.0\n",
       " 0.0  0.0  0.0  0.0  1.0  0.0\n",
       " 0.0  0.0  0.0  0.0  0.0  1.0"
      ]
     },
     "metadata": {},
     "output_type": "display_data"
    }
   ],
   "source": [
    "function get_standard_basis_vectors(dimension)\n",
    "    canonical_basis = Diagonal(ones(dimension))\n",
    "    return canonical_basis[:, 1:dimension]\n",
    "end\n",
    "\n",
    "u1 = get_standard_basis_vectors(13)\n",
    "u2 = get_standard_basis_vectors(12)\n",
    "u3 = get_standard_basis_vectors(6)"
   ]
  },
  {
   "cell_type": "markdown",
   "metadata": {},
   "source": [
    "$$\\hat C = \\begin{pmatrix} C & \\mathbf{1} \\\\ \\mathbf{1}^T & 0 \\end{pmatrix}$$"
   ]
  },
  {
   "cell_type": "markdown",
   "metadata": {},
   "source": [
    "$$\\mathbf{\\hat{C} y} =(0,\\dots,0, 1)$$\n",
    "$$\\mathbf y =(x_1,\\dots,x_r, K)$$"
   ]
  },
  {
   "cell_type": "code",
   "execution_count": 23,
   "metadata": {},
   "outputs": [
    {
     "data": {
      "text/plain": [
       "14×14 Matrix{Float64}:\n",
       "      7.76016e10     -5.5641e9     -5.5641e9    …       0.0         1.0\n",
       "     -5.5641e9        7.74981e10    1.0e8              11.3415      1.0\n",
       "     -5.5641e9        1.0e8         7.74981e10          3.03846     1.0\n",
       "     -7.33214e8       1.31776e7     1.31776e7           5.08475     1.0\n",
       "     -7.33214e8       1.31776e7     1.31776e7          10.1695      1.0\n",
       " 600000.0            -3.33846e7     0.0         …      -1.05175e5   1.0\n",
       " 600000.0             0.0          -3.33846e7      -28177.2         1.0\n",
       "  79065.4             0.0           0.0            -47153.4         1.0\n",
       "  79065.4             0.0           0.0            -94306.8         1.0\n",
       "      0.0         60000.0         480.0               189.862       1.0\n",
       "      0.0             0.0         150.0         …       0.397582    1.0\n",
       "      0.0             0.0           1.66923e7       14105.3         1.0\n",
       "      0.0            11.3415        3.03846             7.73981e10  1.0\n",
       "      1.0             1.0           1.0                 1.0         0.0"
      ]
     },
     "metadata": {},
     "output_type": "display_data"
    }
   ],
   "source": [
    "# CLUSTER 1\n",
    "# v = 1\n",
    "# n = 3\n",
    "# p = 1..3\n",
    "# s = 1..r\n",
    "# t = 1..t\n",
    "r1 = g1_dim[1]\n",
    "C1 = zeros(r1, r1)  # Initialize the matrix C\n",
    "\n",
    "for i in 1:r1\n",
    "    for j in 1:r1\n",
    "        term1 = dot(W11p * u1[:, i] - λ11 * u1[:, i], W11p * u1[:, j] - λ11 * u1[:, j])\n",
    "        term2 = dot(W12p * u1[:, i] - λ12 * u1[:, i], W12p * u1[:, j] - λ12 * u1[:, j])\n",
    "        term3 = dot(W13p * u1[:, i] - λ13 * u1[:, i], W13p * u1[:, j] - λ13 * u1[:, j])\n",
    "        C1[i, j] = term1 + term2 + term3\n",
    "    end\n",
    "end\n",
    "\n",
    "ones_col = ones(size(C1, 1))  \n",
    "ones_row = ones(1, size(C1, 2) + 1)  \n",
    "ones_row[end] = 0\n",
    "\n",
    "top_row = hcat(C1, ones_col)  \n",
    "C1_hat = vcat(top_row, ones_row)  \n",
    "\n",
    "C1_hat"
   ]
  },
  {
   "cell_type": "code",
   "execution_count": 24,
   "metadata": {},
   "outputs": [
    {
     "name": "stdout",
     "output_type": "stream",
     "text": [
      "[3.885181836578413e-6, 1.3966283726904513e-7, 0.00010793738959513987, 3.07877291791467e-8, 5.0461705124087045e-8, 5.169806237343783e-8, 0.49983142884888415, 5.742631658598623e-5, 0.00014864967338904282, 1.437426996537329e-5, 4.492232443917204e-6, 0.49983144238574123, 9.109122443467604e-8]"
     ]
    },
    {
     "data": {
      "text/plain": [
       "0.9999999999999999"
      ]
     },
     "metadata": {},
     "output_type": "display_data"
    }
   ],
   "source": [
    "rhs = zeros(size(C1_hat, 1))  \n",
    "rhs[end] = 1.0\n",
    "\n",
    "# Solve for y\n",
    "y = C1_hat \\ rhs\n",
    "\n",
    "coefficients = y[1:r1]  \n",
    "\n",
    "a1 = u1 * coefficients\n",
    "\n",
    "print(a1)\n",
    "sum(a1)"
   ]
  },
  {
   "cell_type": "code",
   "execution_count": 25,
   "metadata": {},
   "outputs": [
    {
     "data": {
      "text/plain": [
       "13×13 Matrix{Float64}:\n",
       "      6.76485e14       0.0         …  1800.0              0.0        1.0\n",
       "      0.0              7.76485e14       -1.69884e10      -1.6e9      1.0\n",
       "      0.0         371836.0              -2.07408e8        0.0        1.0\n",
       "      0.0              2.59574e6        -1.6e10          -1.6e10     1.0\n",
       "      0.0              1.89031e9        -5.20001e8       -8.62356e9  1.0\n",
       " 100000.0             -2.0e14      …     8.49601e9        8.01882e8  1.0\n",
       "    289.855           -1.6e10            9.10042e5   293965.0        1.0\n",
       " 100000.0             -1.0197e10         4.79347e6        4.39827e6  1.0\n",
       "     -2.0e8            1.00005e11       -3.6e9            0.0        1.0\n",
       "      0.0              1.00005e11        0.0             -3.6e9      1.0\n",
       "   1800.0             -1.69884e10  …     6.7625e14        7.19164e5  1.0\n",
       "      0.0             -1.6e9             7.19164e5        6.7625e14  1.0\n",
       "      1.0              1.0               1.0              1.0        0.0"
      ]
     },
     "metadata": {},
     "output_type": "display_data"
    }
   ],
   "source": [
    "# CLUSTER 2\n",
    "# v = 2\n",
    "# n = 3\n",
    "# p = 1..3\n",
    "# s = 1..r\n",
    "# t = 1..t\n",
    "r2 = g2_dim[1]\n",
    "C2 = zeros(r2, r2)  # Initialize the matrix C\n",
    "\n",
    "for i in 1:r2\n",
    "    for j in 1:r2\n",
    "        term1 = dot(W21p * u2[:, i] - λ21 * u2[:, i], W21p * u2[:, j] - λ21 * u2[:, j])\n",
    "        term2 = dot(W22p * u2[:, i] - λ22 * u2[:, i], W22p * u2[:, j] - λ22 * u2[:, j])\n",
    "        term3 = dot(W23p * u2[:, i] - λ23 * u2[:, i], W23p * u2[:, j] - λ23 * u2[:, j])\n",
    "        C2[i, j] = term1 + term2 + term3\n",
    "    end\n",
    "end\n",
    "ones_col = ones(size(C2, 1))  \n",
    "ones_row = ones(1, size(C2, 2) + 1)  \n",
    "ones_row[end] = 0\n",
    "\n",
    "top_row = hcat(C2, ones_col)  \n",
    "C2_hat = vcat(top_row, ones_row)  \n",
    "\n",
    "C2_hat"
   ]
  },
  {
   "cell_type": "code",
   "execution_count": 26,
   "metadata": {},
   "outputs": [
    {
     "name": "stdout",
     "output_type": "stream",
     "text": [
      "[0.08097186141665103, 0.09501106352998019, 0.08097322585265034, 0.08098398269323946, 0.08097321206392226, 0.09505570292923639, 0.080974375545815, 0.08102882003364491, 0.08101032269737904, 0.08101029876859447, 0.08100363466423123, 0.08100349980465574]"
     ]
    },
    {
     "data": {
      "text/plain": [
       "1.0"
      ]
     },
     "metadata": {},
     "output_type": "display_data"
    }
   ],
   "source": [
    "rhs = zeros(size(C2_hat, 1))  \n",
    "rhs[end] = 1.0\n",
    "\n",
    "# Solve for y\n",
    "y = C2_hat \\ rhs\n",
    "\n",
    "coefficients = y[1:r2]  \n",
    "\n",
    "a2 = u2 * coefficients\n",
    "print(a2)\n",
    "sum(a2)"
   ]
  },
  {
   "cell_type": "code",
   "execution_count": 27,
   "metadata": {},
   "outputs": [
    {
     "data": {
      "text/plain": [
       "7×7 Matrix{Float64}:\n",
       "      5.76249e14  -35546.8           4900.82        …  16802.8         1.0\n",
       " -35546.8              5.76485e14    4900.01           16800.0         1.0\n",
       "   4900.82          4900.01             5.76249e14     16800.0         1.0\n",
       "   4900.82          4900.01        -35547.6            16800.0         1.0\n",
       " -35554.3         -35546.8         -35547.6               -1.38677e5   1.0\n",
       "  16802.8          16800.0          16800.0         …      5.76485e14  1.0\n",
       "      1.0              1.0              1.0                1.0         0.0"
      ]
     },
     "metadata": {},
     "output_type": "display_data"
    }
   ],
   "source": [
    "# CLUSTER 3\n",
    "# v = 3\n",
    "# n = 3\n",
    "# p = 1..3\n",
    "# s = 1..r\n",
    "# t = 1..t\n",
    "\n",
    "r3 = g3_dim[1]\n",
    "C3 = zeros(r3, r3) \n",
    "\n",
    "for i in 1:r3\n",
    "    for j in 1:r3\n",
    "        term1 = dot(W31p * u3[:, i] - λ31 * u3[:, i], W31p * u3[:, j] - λ31 * u3[:, j])\n",
    "        term2 = dot(W32p * u3[:, i] - λ32 * u3[:, i], W32p * u3[:, j] - λ32 * u3[:, j])\n",
    "        term3 = dot(W33p * u3[:, i] - λ33 * u3[:, i], W33p * u3[:, j] - λ33 * u3[:, j])\n",
    "        C3[i, j] = term1 + term2 + term3\n",
    "    end\n",
    "end\n",
    "\n",
    "ones_col = ones(size(C3, 1))  \n",
    "ones_row = ones(1, size(C3, 2) + 1)  \n",
    "ones_row[end] = 0\n",
    "\n",
    "top_row = hcat(C3, ones_col)  \n",
    "C3_hat = vcat(top_row, ones_row)  \n",
    "\n",
    "C3_hat"
   ]
  },
  {
   "cell_type": "code",
   "execution_count": 28,
   "metadata": {},
   "outputs": [
    {
     "name": "stdout",
     "output_type": "stream",
     "text": [
      "[0.1667120257563816, 0.16664398711110276, 0.16671202575638144, 0.166643987111103, 0.16664398715995396, 0.16664398710507705]"
     ]
    },
    {
     "data": {
      "text/plain": [
       "0.9999999999999998"
      ]
     },
     "metadata": {},
     "output_type": "display_data"
    }
   ],
   "source": [
    "rhs = zeros(size(C3_hat, 1))  \n",
    "rhs[end] = 1.0\n",
    "\n",
    "# Solve for y\n",
    "y = C3_hat \\ rhs\n",
    "\n",
    "coefficients = y[1:r3]  \n",
    "\n",
    "a3 = u3 * coefficients\n",
    "\n",
    "print(a3)\n",
    "sum(a3)"
   ]
  },
  {
   "cell_type": "markdown",
   "metadata": {},
   "source": [
    "## Compute $\\mu_{vp}$ for every $p$"
   ]
  },
  {
   "cell_type": "markdown",
   "metadata": {},
   "source": [
    "$$\\mu_{vp}=\\frac{a_v^T K_{vp}a_v}{||a_v||^2}$$"
   ]
  },
  {
   "cell_type": "code",
   "execution_count": 29,
   "metadata": {},
   "outputs": [
    {
     "name": "stdout",
     "output_type": "stream",
     "text": [
      "μ₁₁: 278297.7336438724\n",
      "μ₂₂: 2.1673571434260136e6\n",
      "μ₃₃: 219.98223291208902\n"
     ]
    }
   ],
   "source": [
    "mu11 = dot(a1, K11 * a1) / dot(a1, a1)\n",
    "mu22 = dot(a2, K22 * a2) / dot(a2, a2)\n",
    "mu33 = dot(a3, K33 * a3) / dot(a3, a3)\n",
    "\n",
    "println(\"μ₁₁: \", mu11)\n",
    "println(\"μ₂₂: \", mu22)\n",
    "println(\"μ₃₃: \", mu33)"
   ]
  },
  {
   "cell_type": "code",
   "execution_count": 30,
   "metadata": {},
   "outputs": [
    {
     "name": "stdout",
     "output_type": "stream",
     "text": [
      "μ₁₂: 0.09999999324298087\n",
      "μ₁₃: 0.0\n",
      "μ₂₃: 10.980172324408155\n"
     ]
    }
   ],
   "source": [
    "mu12 = dot(a1, K12 * a1) / dot(a1, a1)\n",
    "mu13 = dot(a1, K13 * a1) / dot(a1, a1)\n",
    "mu23 = dot(a2, K23 * a2) / dot(a2, a2)\n",
    "\n",
    "println(\"μ₁₂: \", mu12)\n",
    "println(\"μ₁₃: \", mu13)\n",
    "println(\"μ₂₃: \", mu23)"
   ]
  },
  {
   "cell_type": "code",
   "execution_count": 31,
   "metadata": {},
   "outputs": [
    {
     "data": {
      "text/plain": [
       "3×3 Matrix{Float64}:\n",
       " 2.78298e5   0.1          0.0\n",
       " 0.1         2.16736e6   10.9802\n",
       " 0.0        10.9802     219.982"
      ]
     },
     "metadata": {},
     "output_type": "display_data"
    }
   ],
   "source": [
    "mu = [\n",
    "    mu11 mu12 mu13;\n",
    "    mu12 mu22 mu23;\n",
    "    mu13 mu23 mu33;\n",
    "]"
   ]
  }
 ],
 "metadata": {
  "kernelspec": {
   "display_name": "Julia 1.10.3",
   "language": "julia",
   "name": "julia-1.10"
  },
  "language_info": {
   "file_extension": ".jl",
   "mimetype": "application/julia",
   "name": "julia",
   "version": "1.10.3"
  }
 },
 "nbformat": 4,
 "nbformat_minor": 2
}
