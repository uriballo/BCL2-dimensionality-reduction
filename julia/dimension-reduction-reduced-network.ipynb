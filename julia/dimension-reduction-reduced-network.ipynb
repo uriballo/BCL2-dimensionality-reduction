{
 "cells": [
  {
   "cell_type": "code",
   "execution_count": 1,
   "metadata": {},
   "outputs": [],
   "source": [
    "using MAT\n",
    "using DataStructures\n",
    "using LinearAlgebra"
   ]
  },
  {
   "cell_type": "markdown",
   "metadata": {},
   "source": [
    "# Matrices"
   ]
  },
  {
   "cell_type": "markdown",
   "metadata": {},
   "source": [
    "We load the precomputed matrices from MATLAB."
   ]
  },
  {
   "cell_type": "code",
   "execution_count": 2,
   "metadata": {},
   "outputs": [
    {
     "data": {
      "text/plain": [
       "MAT.MAT_v5.Matlabv5File(IOStream(<file ./matrices/S3-reduced.mat>), false, #undef)"
      ]
     },
     "metadata": {},
     "output_type": "display_data"
    }
   ],
   "source": [
    "adjacency_file = matopen(\"./matrices/adjacency-reduced.mat\")\n",
    "cluster1_file = matopen(\"./matrices/S1-reduced.mat\")\n",
    "cluster2_file = matopen(\"./matrices/S2-reduced.mat\")\n",
    "cluster3_file = matopen(\"./matrices/S3-reduced.mat\")"
   ]
  },
  {
   "cell_type": "code",
   "execution_count": 3,
   "metadata": {},
   "outputs": [
    {
     "name": "stdout",
     "output_type": "stream",
     "text": [
      "Matrix dimensions:\n",
      "\t[S] Adjacency matrix: (31, 31)\n",
      "\t[G1] Cluster 1: (13, 13)\n",
      "\t[G2] Cluster 2: (12, 12)\n",
      "\t[G3] Cluster 3: (6, 6)\n"
     ]
    }
   ],
   "source": [
    "S = read(adjacency_file, \"S\")\n",
    "G1 = read(cluster1_file, \"S1\")\n",
    "G2 = read(cluster2_file, \"S2\")\n",
    "G3 = read(cluster3_file, \"S3\")\n",
    "\n",
    "s_dim = size(S)\n",
    "g1_dim = size(G1)\n",
    "g2_dim = size(G2)\n",
    "g3_dim = size(G3)\n",
    "\n",
    "println(\"Matrix dimensions:\")\n",
    "println(\"\\t[S] Adjacency matrix: \", s_dim)\n",
    "println(\"\\t[G1] Cluster 1: \", g1_dim)\n",
    "println(\"\\t[G2] Cluster 2: \", g2_dim)\n",
    "println(\"\\t[G3] Cluster 3: \", g3_dim)"
   ]
  },
  {
   "cell_type": "markdown",
   "metadata": {},
   "source": [
    "## Adjacency Submatrices $W_{vp}$\n",
    "\n",
    "$W_{vp}$ is the submatrix of size $m_v \\times m_p$ consisting of all interactions between $G_p$ and $G_v$.\n",
    "\n",
    "($m_i$ is the size of the group $i$)"
   ]
  },
  {
   "cell_type": "markdown",
   "metadata": {},
   "source": [
    "$$W_{12}$$"
   ]
  },
  {
   "cell_type": "code",
   "execution_count": 4,
   "metadata": {},
   "outputs": [
    {
     "data": {
      "text/plain": [
       "12×13 Matrix{Float64}:\n",
       " 0.0  0.0  0.0  0.0  0.0  0.0  0.0  0.0  0.0  0.0  0.0  0.0  0.0\n",
       " 0.0  0.0  0.0  0.0  0.0  0.0  0.0  0.0  0.0  1.0  0.0  0.0  0.0\n",
       " 0.0  0.0  0.0  0.0  0.0  0.0  0.0  0.0  0.0  0.0  1.0  0.0  0.0\n",
       " 0.0  0.0  0.0  0.0  0.0  0.0  0.0  0.0  0.0  0.0  0.0  1.0  0.0\n",
       " 0.0  0.0  0.0  0.0  0.0  0.0  0.0  0.0  0.0  0.0  0.0  0.0  1.0\n",
       " 0.0  0.0  0.0  0.0  0.0  1.0  0.0  0.0  0.0  0.0  0.0  0.0  0.0\n",
       " 0.0  0.0  0.0  0.0  0.0  0.0  1.0  0.0  0.0  0.0  0.0  0.0  0.0\n",
       " 0.0  0.0  0.0  0.0  0.0  0.0  0.0  1.0  0.0  0.0  0.0  0.0  0.0\n",
       " 0.0  0.0  0.0  0.0  0.0  0.0  0.0  0.0  0.0  0.0  0.0  0.0  0.0\n",
       " 0.0  0.0  0.0  0.0  0.0  0.0  0.0  0.0  0.0  0.0  0.0  0.0  0.0\n",
       " 0.0  0.0  0.0  0.0  0.0  0.0  0.0  0.0  0.0  0.0  0.0  0.0  0.0\n",
       " 0.0  0.0  0.0  0.0  0.0  0.0  0.0  0.0  0.0  0.0  0.0  0.0  0.0"
      ]
     },
     "metadata": {},
     "output_type": "display_data"
    }
   ],
   "source": [
    "row_start = g1_dim[1]+1\n",
    "row_end = g1_dim[1] + g2_dim[1]\n",
    "col_start = 1\n",
    "col_end = g1_dim[2]\n",
    "W12 = S[row_start:row_end, col_start:col_end]"
   ]
  },
  {
   "cell_type": "markdown",
   "metadata": {},
   "source": [
    "$$W_{21}$$"
   ]
  },
  {
   "cell_type": "code",
   "execution_count": 5,
   "metadata": {},
   "outputs": [
    {
     "data": {
      "text/plain": [
       "13×12 Matrix{Float64}:\n",
       " 0.0  0.0  0.0  0.0  0.0  0.0  0.0  0.0  0.0  0.0  0.0  0.0\n",
       " 0.0  0.0  0.0  0.0  0.0  0.0  0.0  0.0  0.0  0.0  0.0  0.0\n",
       " 0.0  0.0  0.0  0.0  0.0  0.0  0.0  0.0  0.0  0.0  0.0  0.0\n",
       " 0.0  0.0  0.0  0.0  0.0  0.0  0.0  0.0  0.0  0.0  0.0  0.0\n",
       " 0.0  0.0  0.0  0.0  0.0  0.0  0.0  0.0  0.0  0.0  0.0  0.0\n",
       " 0.0  0.0  0.0  0.0  0.0  1.0  0.0  0.0  0.0  0.0  0.0  0.0\n",
       " 0.0  0.0  0.0  0.0  0.0  0.0  1.0  0.0  0.0  0.0  0.0  0.0\n",
       " 0.0  0.0  0.0  0.0  0.0  0.0  0.0  1.0  0.0  0.0  0.0  0.0\n",
       " 0.0  0.0  0.0  0.0  0.0  0.0  0.0  0.0  0.0  0.0  0.0  0.0\n",
       " 0.0  1.0  0.0  0.0  0.0  0.0  0.0  0.0  0.0  0.0  0.0  0.0\n",
       " 0.0  0.0  1.0  0.0  0.0  0.0  0.0  0.0  0.0  0.0  0.0  0.0\n",
       " 0.0  0.0  0.0  1.0  0.0  0.0  0.0  0.0  0.0  0.0  0.0  0.0\n",
       " 0.0  0.0  0.0  0.0  1.0  0.0  0.0  0.0  0.0  0.0  0.0  0.0"
      ]
     },
     "metadata": {},
     "output_type": "display_data"
    }
   ],
   "source": [
    "row_start = 1\n",
    "row_end = g1_dim[1]\n",
    "col_start = g1_dim[2] + 1                            # Same column range as W12\n",
    "col_end = col_start -1 + g2_dim[2]\n",
    "W21 = S[row_start:row_end, col_start:col_end]"
   ]
  },
  {
   "cell_type": "code",
   "execution_count": 6,
   "metadata": {},
   "outputs": [
    {
     "data": {
      "text/plain": [
       "true"
      ]
     },
     "metadata": {},
     "output_type": "display_data"
    }
   ],
   "source": [
    "W12 == W21'"
   ]
  },
  {
   "cell_type": "markdown",
   "metadata": {},
   "source": [
    "$$W_{13}$$"
   ]
  },
  {
   "cell_type": "code",
   "execution_count": 7,
   "metadata": {},
   "outputs": [
    {
     "data": {
      "text/plain": [
       "6×13 Matrix{Float64}:\n",
       " 0.0  0.0  0.0  0.0  0.0  0.0  0.0  0.0  0.0  0.0  0.0  0.0  0.0\n",
       " 0.0  0.0  0.0  0.0  0.0  0.0  0.0  0.0  0.0  0.0  0.0  0.0  0.0\n",
       " 0.0  0.0  0.0  0.0  0.0  0.0  0.0  0.0  0.0  0.0  0.0  0.0  0.0\n",
       " 0.0  0.0  0.0  0.0  0.0  0.0  0.0  0.0  0.0  0.0  0.0  0.0  0.0\n",
       " 0.0  0.0  0.0  0.0  0.0  0.0  0.0  0.0  0.0  0.0  0.0  0.0  0.0\n",
       " 0.0  0.0  0.0  0.0  0.0  0.0  0.0  0.0  0.0  0.0  0.0  0.0  0.0"
      ]
     },
     "metadata": {},
     "output_type": "display_data"
    }
   ],
   "source": [
    "row_start = g1_dim[1] + g2_dim[1] +1\n",
    "row_end = g1_dim[1] + g2_dim[1] + g3_dim[1]\n",
    "col_start = 1\n",
    "col_end = g1_dim[2]\n",
    "W13 = S[row_start:row_end, col_start:col_end]"
   ]
  },
  {
   "cell_type": "markdown",
   "metadata": {},
   "source": [
    "$$W_{31}$$"
   ]
  },
  {
   "cell_type": "code",
   "execution_count": 8,
   "metadata": {},
   "outputs": [
    {
     "data": {
      "text/plain": [
       "13×6 adjoint(::Matrix{Float64}) with eltype Float64:\n",
       " 0.0  0.0  0.0  0.0  0.0  0.0\n",
       " 0.0  0.0  0.0  0.0  0.0  0.0\n",
       " 0.0  0.0  0.0  0.0  0.0  0.0\n",
       " 0.0  0.0  0.0  0.0  0.0  0.0\n",
       " 0.0  0.0  0.0  0.0  0.0  0.0\n",
       " 0.0  0.0  0.0  0.0  0.0  0.0\n",
       " 0.0  0.0  0.0  0.0  0.0  0.0\n",
       " 0.0  0.0  0.0  0.0  0.0  0.0\n",
       " 0.0  0.0  0.0  0.0  0.0  0.0\n",
       " 0.0  0.0  0.0  0.0  0.0  0.0\n",
       " 0.0  0.0  0.0  0.0  0.0  0.0\n",
       " 0.0  0.0  0.0  0.0  0.0  0.0\n",
       " 0.0  0.0  0.0  0.0  0.0  0.0"
      ]
     },
     "metadata": {},
     "output_type": "display_data"
    }
   ],
   "source": [
    "W31 = W13'\n",
    "W31"
   ]
  },
  {
   "cell_type": "markdown",
   "metadata": {},
   "source": [
    "$$W_{23}$$"
   ]
  },
  {
   "cell_type": "code",
   "execution_count": 9,
   "metadata": {},
   "outputs": [
    {
     "data": {
      "text/plain": [
       "6×12 Matrix{Float64}:\n",
       " 0.0  0.0  0.0  0.0  0.0  0.0  0.0  0.0  0.0  0.0  1.0  0.0\n",
       " 0.0  0.0  0.0  0.0  0.0  0.0  0.0  0.0  0.0  0.0  0.0  0.0\n",
       " 0.0  0.0  0.0  0.0  0.0  0.0  0.0  0.0  0.0  0.0  0.0  1.0\n",
       " 0.0  0.0  0.0  0.0  0.0  0.0  0.0  0.0  0.0  0.0  0.0  0.0\n",
       " 0.0  0.0  0.0  0.0  0.0  0.0  0.0  0.0  0.0  0.0  0.0  0.0\n",
       " 0.0  0.0  0.0  0.0  0.0  0.0  0.0  0.0  0.0  0.0  0.0  0.0"
      ]
     },
     "metadata": {},
     "output_type": "display_data"
    }
   ],
   "source": [
    "row_start = g1_dim[1] + g2_dim[1] +1\n",
    "row_end = g1_dim[1] + g2_dim[1] + g3_dim[1]\n",
    "col_start = g1_dim[2]+1\n",
    "col_end = g1_dim[2] + g2_dim[2]\n",
    "W23  = S[row_start:row_end, col_start:col_end]"
   ]
  },
  {
   "cell_type": "markdown",
   "metadata": {},
   "source": [
    "$$W_{32}$$"
   ]
  },
  {
   "cell_type": "code",
   "execution_count": 10,
   "metadata": {},
   "outputs": [
    {
     "data": {
      "text/plain": [
       "12×6 adjoint(::Matrix{Float64}) with eltype Float64:\n",
       " 0.0  0.0  0.0  0.0  0.0  0.0\n",
       " 0.0  0.0  0.0  0.0  0.0  0.0\n",
       " 0.0  0.0  0.0  0.0  0.0  0.0\n",
       " 0.0  0.0  0.0  0.0  0.0  0.0\n",
       " 0.0  0.0  0.0  0.0  0.0  0.0\n",
       " 0.0  0.0  0.0  0.0  0.0  0.0\n",
       " 0.0  0.0  0.0  0.0  0.0  0.0\n",
       " 0.0  0.0  0.0  0.0  0.0  0.0\n",
       " 0.0  0.0  0.0  0.0  0.0  0.0\n",
       " 0.0  0.0  0.0  0.0  0.0  0.0\n",
       " 1.0  0.0  0.0  0.0  0.0  0.0\n",
       " 0.0  0.0  1.0  0.0  0.0  0.0"
      ]
     },
     "metadata": {},
     "output_type": "display_data"
    }
   ],
   "source": [
    "W32 = W23'\n",
    "W32"
   ]
  },
  {
   "cell_type": "markdown",
   "metadata": {},
   "source": [
    "## Global Diagonal In-Degree Submatrix"
   ]
  },
  {
   "cell_type": "code",
   "execution_count": 11,
   "metadata": {},
   "outputs": [
    {
     "data": {
      "text/plain": [
       "3×3 Matrix{Int64}:\n",
       " 7  0  0\n",
       " 0  0  0\n",
       " 0  0  2"
      ]
     },
     "metadata": {},
     "output_type": "display_data"
    }
   ],
   "source": [
    "K = [[sum(W12 .== 1),0,0] [0,sum(W13 .== 1),0] [0,0,sum(W23 .== 1)]]"
   ]
  },
  {
   "cell_type": "markdown",
   "metadata": {},
   "source": [
    "## Compatibility Equations"
   ]
  },
  {
   "cell_type": "markdown",
   "metadata": {},
   "source": [
    "$$W_{vp}^\\prime \\hat a_v= \\lambda_{vp}^\\prime\\hat a_p$$\n",
    "we focus on fixed $v$, variable $p$."
   ]
  },
  {
   "cell_type": "markdown",
   "metadata": {},
   "source": [
    "$$W^\\prime_{vp} = W^T_{pp}\\quad \\text{ if }\\quad v=p\\quad \\text { or }\\quad W^\\prime_{vp} = W^T_{pv}W^T_{vp}\\quad \\text{ if }\\quad v\\ne p$$\n",
    "$$\\lambda^\\prime_{vp} = \\lambda_{pp}\\quad \\text{ if }\\quad v=p\\quad \\text { or }\\quad \\lambda^\\prime_{vp} = \\lambda_{pv}\\lambda_{vp}\\quad \\text{ if }\\quad v\\ne p$$"
   ]
  },
  {
   "cell_type": "code",
   "execution_count": 12,
   "metadata": {},
   "outputs": [
    {
     "name": "stdout",
     "output_type": "stream",
     "text": [
      "(13, 13)\n",
      "(12, 12)\n",
      "(6, 6)\n"
     ]
    }
   ],
   "source": [
    "W11p = G1'\n",
    "W12p = W12' * W21'\n",
    "W21p = W21' * W12'\n",
    "W13p = W13' * W31'\n",
    "W31p = W31' * W13'\n",
    "W22p = G2'\n",
    "W23p = W23' * W32'\n",
    "W32p = W32' * W23'\n",
    "W33p= G3'\n",
    "\n",
    "println(size(W11p))\n",
    "println(size(W22p))\n",
    "println(size(W33p))"
   ]
  },
  {
   "cell_type": "code",
   "execution_count": 13,
   "metadata": {},
   "outputs": [
    {
     "name": "stdout",
     "output_type": "stream",
     "text": [
      "λ₁₁: 3.4203762111170852\n",
      "λ₂₂: 4.694988076660709\n",
      "λ₃₃: 2.7092753594369223\n",
      "λ₁₂: 1.0\n",
      "λ₁₃: 0.0\n",
      "λ₂₃: 1.0\n"
     ]
    }
   ],
   "source": [
    "function dominant_eigenpair(A)\n",
    "    v = eigen(A)\n",
    "    eigenvalues = v.values\n",
    "    eigenvectors = v.vectors\n",
    "    max_eigenvalue = maximum(abs.(eigenvalues))\n",
    "    max_eigenvalue_index = argmax(abs.(eigenvalues))\n",
    "    max_eigenvector = eigenvectors[:, max_eigenvalue_index]\n",
    "    return (max_eigenvalue, max_eigenvector)\n",
    "end\n",
    "\n",
    "# Eigenvalues\n",
    "λ11 = eigmax(G1)\n",
    "λ22 = eigmax(G2)\n",
    "λ33 = eigmax(G3)\n",
    "\n",
    "λ12 = eigmax(W12p) * eigmax(W21p)\n",
    "λ21 = λ12#eigmax(W21p) * eigmax(W12p)\n",
    "λ13 = eigmax(W13p) * eigmax(W31p)\n",
    "λ31 = λ13\n",
    "λ23 = eigmax(W23p) * eigmax(W32p)\n",
    "λ32 = λ23\n",
    "\n",
    "println(\"λ₁₁: \", λ11)\n",
    "println(\"λ₂₂: \", λ22)\n",
    "println(\"λ₃₃: \", λ33)\n",
    "println(\"λ₁₂: \", λ12)\n",
    "println(\"λ₁₃: \", λ13)\n",
    "println(\"λ₂₃: \", λ23)"
   ]
  },
  {
   "cell_type": "markdown",
   "metadata": {},
   "source": [
    "$$\\hat a_v= x_1u_1+\\dots+x_ru_r$$\n",
    "$$\\{u_i\\}\\in\\mathbb R^{m_v}$$\n",
    "$$m_v = |G_p|$$"
   ]
  },
  {
   "cell_type": "markdown",
   "metadata": {},
   "source": [
    "$$\\hat{\\mathbf{C}}\\ \\mathbf y = (0,\\dots,0,1)^T$$\n",
    "$$\\mathbf{y}:=(x_1,\\ \\dots\\ ,\\ x_r,\\ K)$$\n",
    "$$\\hat{\\mathbf C}=\\left(\\frac{C}{1^{T}}\\frac{-1}{0}\\right)$$\n",
    "$$C=(c_{st})_{s,t} \\quad\\text{ is }\\quad r\\times r$$"
   ]
  },
  {
   "cell_type": "markdown",
   "metadata": {},
   "source": [
    "$$c_{st}:=\\sum_{p=1}^n\\langle W^\\prime_{vp} u_s- \\lambda^\\prime_{vp} u_s,\\ W^\\prime_{vp} u_t- \\lambda^\\prime_{vp} u_t\\rangle$$"
   ]
  },
  {
   "cell_type": "markdown",
   "metadata": {},
   "source": [
    "A solution that is not restricted to a particular subspace is obtained when $r = m_v$ and $u_1,\\dots, u_{m_v}$ is the canonical basis of $\\mathbb R^{m_v}$. This solution is the one with the smallest error."
   ]
  },
  {
   "cell_type": "markdown",
   "metadata": {},
   "source": [
    "## Reduction Vectors"
   ]
  },
  {
   "cell_type": "code",
   "execution_count": 14,
   "metadata": {},
   "outputs": [
    {
     "data": {
      "text/plain": [
       "6×6 Matrix{Float64}:\n",
       " 1.0  0.0  0.0  0.0  0.0  0.0\n",
       " 0.0  1.0  0.0  0.0  0.0  0.0\n",
       " 0.0  0.0  1.0  0.0  0.0  0.0\n",
       " 0.0  0.0  0.0  1.0  0.0  0.0\n",
       " 0.0  0.0  0.0  0.0  1.0  0.0\n",
       " 0.0  0.0  0.0  0.0  0.0  1.0"
      ]
     },
     "metadata": {},
     "output_type": "display_data"
    }
   ],
   "source": [
    "# canonical basis\n",
    "canonical_basis = Diagonal(ones(13))\n",
    "\n",
    "e1 = canonical_basis[:,1]\n",
    "e2 = canonical_basis[:,2]\n",
    "e3 = canonical_basis[:,3]\n",
    "e4 = canonical_basis[:,4]\n",
    "e5 = canonical_basis[:,5]\n",
    "e6 = canonical_basis[:,6]\n",
    "e7 = canonical_basis[:,7]\n",
    "e8 = canonical_basis[:,8]\n",
    "e9 = canonical_basis[:,9]\n",
    "e10 = canonical_basis[:,10]\n",
    "e11 = canonical_basis[:,11]\n",
    "e12 = canonical_basis[:,12]\n",
    "e13 = canonical_basis[:,13]\n",
    "\n",
    "u1 = [e1 e2 e3 e4 e5 e6 e7 e8 e9 e10 e11 e12 e13]\n",
    "\n",
    "canonical_basis = Diagonal(ones(12))\n",
    "\n",
    "e1 = canonical_basis[:,1]\n",
    "e2 = canonical_basis[:,2]\n",
    "e3 = canonical_basis[:,3]\n",
    "e4 = canonical_basis[:,4]\n",
    "e5 = canonical_basis[:,5]\n",
    "e6 = canonical_basis[:,6]\n",
    "e7 = canonical_basis[:,7]\n",
    "e8 = canonical_basis[:,8]\n",
    "e9 = canonical_basis[:,9]\n",
    "e10 = canonical_basis[:,10]\n",
    "e11 = canonical_basis[:,11]\n",
    "e12 = canonical_basis[:,12]\n",
    "\n",
    "u2 = [e1 e2 e3 e4 e5 e6 e7 e8 e9 e10 e11 e12]\n",
    "\n",
    "\n",
    "canonical_basis = Diagonal(ones(6))\n",
    "\n",
    "e1 = canonical_basis[:,1]\n",
    "e2 = canonical_basis[:,2]\n",
    "e3 = canonical_basis[:,3]\n",
    "e4 = canonical_basis[:,4]\n",
    "e5 = canonical_basis[:,5]\n",
    "e6 = canonical_basis[:,6]\n",
    "\n",
    "\n",
    "u3 = [e1 e2 e3 e4 e5 e6]"
   ]
  },
  {
   "cell_type": "markdown",
   "metadata": {},
   "source": [
    "$$\\hat C = \\begin{pmatrix} C & \\mathbf{1} \\\\ \\mathbf{1}^T & 0 \\end{pmatrix}$$"
   ]
  },
  {
   "cell_type": "markdown",
   "metadata": {},
   "source": [
    "$$\\mathbf{\\hat{C} y} =(0,\\dots,0, 1)$$\n",
    "$$\\mathbf y =(x_1,\\dots,x_r, K)$$"
   ]
  },
  {
   "cell_type": "code",
   "execution_count": 15,
   "metadata": {},
   "outputs": [
    {
     "data": {
      "text/plain": [
       "14×14 Matrix{Float64}:\n",
       " 16.699    -6.84075  -6.84075  -6.84075  …   0.0       0.0       0.0      1.0\n",
       " -6.84075  14.699     1.0       1.0          0.0       0.0       1.0      1.0\n",
       " -6.84075   1.0      14.699     1.0          1.0       1.0       1.0      1.0\n",
       " -6.84075   1.0       1.0      14.699        1.0       1.0       1.0      1.0\n",
       " -6.84075   1.0       1.0       1.0          0.0       1.0       1.0      1.0\n",
       "  1.0      -6.84075   0.0       0.0      …   0.0       0.0      -6.84075  1.0\n",
       "  1.0       0.0      -6.84075   0.0         -6.84075  -6.84075  -6.84075  1.0\n",
       "  1.0       0.0       0.0      -6.84075     -6.84075  -6.84075  -6.84075  1.0\n",
       "  1.0       0.0       0.0       0.0          0.0      -6.84075  -6.84075  1.0\n",
       "  0.0       1.0       1.0       1.0          2.0       2.0       3.0      1.0\n",
       "  0.0       0.0       1.0       1.0      …  13.699     2.0       2.0      1.0\n",
       "  0.0       0.0       1.0       1.0          2.0      14.699     3.0      1.0\n",
       "  0.0       1.0       1.0       1.0          2.0       3.0      15.699    1.0\n",
       "  1.0       1.0       1.0       1.0          1.0       1.0       1.0      0.0"
      ]
     },
     "metadata": {},
     "output_type": "display_data"
    }
   ],
   "source": [
    "# CLUSTER 1\n",
    "# v = 1\n",
    "# n = 3\n",
    "# p = 1..3\n",
    "# s = 1..r\n",
    "# t = 1..t\n",
    "r1 = g1_dim[1]\n",
    "C1 = zeros(r1, r1)  # Initialize the matrix C\n",
    "\n",
    "for i in 1:r1\n",
    "    for j in 1:r1\n",
    "        term1 = dot(W11p * u1[:, i] - λ11 * u1[:, i], W11p * u1[:, j] - λ11 * u1[:, j])\n",
    "        term2 = dot(W12p * u1[:, i] - λ12 * u1[:, i], W12p * u1[:, j] - λ12 * u1[:, j])\n",
    "        term3 = dot(W13p * u1[:, i] - λ13 * u1[:, i], W13p * u1[:, j] - λ13 * u1[:, j])\n",
    "        C1[i, j] = term1 + term2 + term3\n",
    "    end\n",
    "end\n",
    "\n",
    "ones_col = ones(size(C1, 1))  \n",
    "ones_row = ones(1, size(C1, 2) + 1)  \n",
    "ones_row[end] = 0\n",
    "\n",
    "top_row = hcat(C1, ones_col)  \n",
    "C1_hat = vcat(top_row, ones_row)  \n",
    "\n",
    "C1_hat"
   ]
  },
  {
   "cell_type": "code",
   "execution_count": 16,
   "metadata": {},
   "outputs": [
    {
     "data": {
      "text/plain": [
       "13-element Vector{Float64}:\n",
       " 0.03671660968145352\n",
       " 0.030152989162889714\n",
       " 0.04588827469461988\n",
       " 0.04588827469461992\n",
       " 0.02579935605039592\n",
       " 0.07619576963732412\n",
       " 0.133959230709688\n",
       " 0.13395923070968804\n",
       " 0.06678655972904103\n",
       " 0.10352631181188926\n",
       " 0.08078773725113474\n",
       " 0.09880054065325064\n",
       " 0.12153911521400514"
      ]
     },
     "metadata": {},
     "output_type": "display_data"
    }
   ],
   "source": [
    "rhs = zeros(size(C1_hat, 1))  \n",
    "rhs[end] = 1.0\n",
    "\n",
    "# Solve for y\n",
    "y = C1_hat \\ rhs\n",
    "\n",
    "coefficients = y[1:r1]  \n",
    "\n",
    "a1 = u1 * coefficients"
   ]
  },
  {
   "cell_type": "code",
   "execution_count": 17,
   "metadata": {},
   "outputs": [
    {
     "data": {
      "text/plain": [
       "13×13 Matrix{Float64}:\n",
       " 25.0429    0.0       0.0       0.0      …   0.0       1.0       0.0      1.0\n",
       "  0.0      28.0429    3.0       4.0          4.0      -9.38998  -9.38998  1.0\n",
       "  0.0       3.0      26.0429    3.0          2.0      -9.38998   0.0      1.0\n",
       "  0.0       4.0       3.0      27.0429       3.0      -9.38998  -9.38998  1.0\n",
       "  0.0       5.0       3.0       4.0          4.0      -9.38998  -9.38998  1.0\n",
       "  1.0      -9.38998   0.0       0.0      …  -9.38998   3.0       3.0      1.0\n",
       "  1.0      -9.38998  -9.38998  -9.38998     -9.38998   5.0       4.0      1.0\n",
       "  1.0      -9.38998  -9.38998  -9.38998     -9.38998   5.0       4.0      1.0\n",
       " -9.38998   4.0       3.0       3.0          3.0      -9.38998   0.0      1.0\n",
       "  0.0       4.0       2.0       3.0         28.0429    0.0      -9.38998  1.0\n",
       "  1.0      -9.38998  -9.38998  -9.38998  …   0.0      28.0429    3.0      1.0\n",
       "  0.0      -9.38998   0.0      -9.38998     -9.38998   3.0      27.0429   1.0\n",
       "  1.0       1.0       1.0       1.0          1.0       1.0       1.0      0.0"
      ]
     },
     "metadata": {},
     "output_type": "display_data"
    }
   ],
   "source": [
    "# CLUSTER 2\n",
    "# v = 2\n",
    "# n = 3\n",
    "# p = 1..3\n",
    "# s = 1..r\n",
    "# t = 1..t\n",
    "r2 = g2_dim[1]\n",
    "C2 = zeros(r2, r2)  # Initialize the matrix C\n",
    "\n",
    "for i in 1:r2\n",
    "    for j in 1:r2\n",
    "        term1 = dot(W21p * u2[:, i] - λ21 * u2[:, i], W21p * u2[:, j] - λ21 * u2[:, j])\n",
    "        term2 = dot(W22p * u2[:, i] - λ22 * u2[:, i], W22p * u2[:, j] - λ22 * u2[:, j])\n",
    "        term3 = dot(W23p * u2[:, i] - λ23 * u2[:, i], W23p * u2[:, j] - λ23 * u2[:, j])\n",
    "        C2[i, j] = term1 + term2 + term3\n",
    "    end\n",
    "end\n",
    "ones_col = ones(size(C2, 1))  \n",
    "ones_row = ones(1, size(C2, 2) + 1)  \n",
    "ones_row[end] = 0\n",
    "\n",
    "top_row = hcat(C2, ones_col)  \n",
    "C2_hat = vcat(top_row, ones_row)  \n",
    "\n",
    "C2_hat"
   ]
  },
  {
   "cell_type": "code",
   "execution_count": 18,
   "metadata": {},
   "outputs": [
    {
     "data": {
      "text/plain": [
       "12-element Vector{Float64}:\n",
       " 0.02035349511022526\n",
       " 0.09977868897224149\n",
       " 0.06783438480777043\n",
       " 0.08393947034618121\n",
       " 0.09977868897224149\n",
       " 0.07735859273308107\n",
       " 0.10881686468603428\n",
       " 0.10881686468603428\n",
       " 0.08462283912442876\n",
       " 0.07723338652758573\n",
       " 0.09352847281481348\n",
       " 0.0779382512193626"
      ]
     },
     "metadata": {},
     "output_type": "display_data"
    }
   ],
   "source": [
    "rhs = zeros(size(C2_hat, 1))  \n",
    "rhs[end] = 1.0\n",
    "\n",
    "# Solve for y\n",
    "y = C2_hat \\ rhs\n",
    "\n",
    "coefficients = y[1:r2]  \n",
    "\n",
    "a2 = u2 * coefficients"
   ]
  },
  {
   "cell_type": "code",
   "execution_count": 19,
   "metadata": {},
   "outputs": [
    {
     "data": {
      "text/plain": [
       "7×7 Matrix{Float64}:\n",
       "  9.34017  -4.41855   1.0       1.0      -4.41855   1.0      1.0\n",
       " -4.41855  10.3402    1.0       1.0      -4.41855   1.0      1.0\n",
       "  1.0       1.0       9.34017  -4.41855  -4.41855   1.0      1.0\n",
       "  1.0       1.0      -4.41855  10.3402   -4.41855   1.0      1.0\n",
       " -4.41855  -4.41855  -4.41855  -4.41855  13.3402   -5.41855  1.0\n",
       "  1.0       1.0       1.0       1.0      -5.41855   9.34017  1.0\n",
       "  1.0       1.0       1.0       1.0       1.0       1.0      0.0"
      ]
     },
     "metadata": {},
     "output_type": "display_data"
    }
   ],
   "source": [
    "# CLUSTER 3\n",
    "# v = 3\n",
    "# n = 3\n",
    "# p = 1..3\n",
    "# s = 1..r\n",
    "# t = 1..t\n",
    "\n",
    "r3 = g3_dim[1]\n",
    "C3 = zeros(r3, r3) \n",
    "\n",
    "for i in 1:r3\n",
    "    for j in 1:r3\n",
    "        term1 = dot(W31p * u3[:, i] - λ31 * u3[:, i], W31p * u3[:, j] - λ31 * u3[:, j])\n",
    "        term2 = dot(W32p * u3[:, i] - λ32 * u3[:, i], W32p * u3[:, j] - λ32 * u3[:, j])\n",
    "        term3 = dot(W33p * u3[:, i] - λ33 * u3[:, i], W33p * u3[:, j] - λ33 * u3[:, j])\n",
    "        C3[i, j] = term1 + term2 + term3\n",
    "    end\n",
    "end\n",
    "\n",
    "ones_col = ones(size(C3, 1))  \n",
    "ones_row = ones(1, size(C3, 2) + 1)  \n",
    "ones_row[end] = 0\n",
    "\n",
    "top_row = hcat(C3, ones_col)  \n",
    "C3_hat = vcat(top_row, ones_row)  \n",
    "\n",
    "C3_hat"
   ]
  },
  {
   "cell_type": "code",
   "execution_count": 20,
   "metadata": {},
   "outputs": [
    {
     "data": {
      "text/plain": [
       "6-element Vector{Float64}:\n",
       " 0.16603628392086836\n",
       " 0.15478624039512281\n",
       " 0.1660362839208683\n",
       " 0.1547862403951228\n",
       " 0.26152492610732053\n",
       " 0.09683002526069712"
      ]
     },
     "metadata": {},
     "output_type": "display_data"
    }
   ],
   "source": [
    "rhs = zeros(size(C3_hat, 1))  \n",
    "rhs[end] = 1.0\n",
    "\n",
    "# Solve for y\n",
    "y = C3_hat \\ rhs\n",
    "\n",
    "coefficients = y[1:r3]  \n",
    "\n",
    "a3 = u3 * coefficients"
   ]
  },
  {
   "cell_type": "markdown",
   "metadata": {},
   "source": [
    "# Compute $\\mu_{vp}$ for every $p$"
   ]
  },
  {
   "cell_type": "markdown",
   "metadata": {},
   "source": [
    "$$\\mu_{vp}=\\frac{a_v^T K_{vp}a_v}{||a_v||^2}$$"
   ]
  },
  {
   "cell_type": "code",
   "execution_count": null,
   "metadata": {},
   "outputs": [],
   "source": [
    "μ11 ="
   ]
  }
 ],
 "metadata": {
  "kernelspec": {
   "display_name": "Julia 1.10.2",
   "language": "julia",
   "name": "julia-1.10"
  },
  "language_info": {
   "file_extension": ".jl",
   "mimetype": "application/julia",
   "name": "julia",
   "version": "1.10.2"
  }
 },
 "nbformat": 4,
 "nbformat_minor": 2
}
