{
 "cells": [
  {
   "cell_type": "code",
   "execution_count": 1,
   "metadata": {},
   "outputs": [],
   "source": [
    "using MAT\n",
    "using DataStructures\n",
    "using LinearAlgebra"
   ]
  },
  {
   "cell_type": "markdown",
   "metadata": {},
   "source": [
    "# Matrices"
   ]
  },
  {
   "cell_type": "markdown",
   "metadata": {},
   "source": [
    "We load the precomputed matrices from MATLAB."
   ]
  },
  {
   "cell_type": "code",
   "execution_count": 2,
   "metadata": {},
   "outputs": [
    {
     "data": {
      "text/plain": [
       "MAT.MAT_v5.Matlabv5File(IOStream(<file ./matrices/S3-reduced.mat>), false, #undef)"
      ]
     },
     "metadata": {},
     "output_type": "display_data"
    }
   ],
   "source": [
    "adjacency_file = matopen(\"./matrices/adjacency-reduced.mat\")\n",
    "cluster1_file = matopen(\"./matrices/S1-reduced.mat\")\n",
    "cluster2_file = matopen(\"./matrices/S2-reduced.mat\")\n",
    "cluster3_file = matopen(\"./matrices/S3-reduced.mat\")"
   ]
  },
  {
   "cell_type": "code",
   "execution_count": 3,
   "metadata": {},
   "outputs": [
    {
     "name": "stdout",
     "output_type": "stream",
     "text": [
      "Matrix dimensions:\n",
      "\t[S] Adjacency matrix: (31, 31)\n",
      "\t[G1] Cluster 1: (13, 13)\n",
      "\t[G2] Cluster 2: (12, 12)\n",
      "\t[G3] Cluster 3: (6, 6)\n"
     ]
    }
   ],
   "source": [
    "S = read(adjacency_file, \"S\")\n",
    "G1 = read(cluster1_file, \"S1\")\n",
    "G2 = read(cluster2_file, \"S2\")\n",
    "G3 = read(cluster3_file, \"S3\")\n",
    "\n",
    "s_dim = size(S)\n",
    "g1_dim = size(G1)\n",
    "g2_dim = size(G2)\n",
    "g3_dim = size(G3)\n",
    "\n",
    "println(\"Matrix dimensions:\")\n",
    "println(\"\\t[S] Adjacency matrix: \", s_dim)\n",
    "println(\"\\t[G1] Cluster 1: \", g1_dim)\n",
    "println(\"\\t[G2] Cluster 2: \", g2_dim)\n",
    "println(\"\\t[G3] Cluster 3: \", g3_dim)"
   ]
  },
  {
   "cell_type": "markdown",
   "metadata": {},
   "source": [
    "## Adjacency Submatrices $W_{vp}$\n",
    "\n",
    "$W_{vp}$ is the adjacency matrix consisting of all interactions between $G_p$ and $G_v$"
   ]
  },
  {
   "cell_type": "markdown",
   "metadata": {},
   "source": [
    "$$W_{12}$$"
   ]
  },
  {
   "cell_type": "code",
   "execution_count": 4,
   "metadata": {},
   "outputs": [
    {
     "data": {
      "text/plain": [
       "12×13 Matrix{Float64}:\n",
       " 0.0  0.0  0.0  0.0  0.0  0.0  0.0  0.0  0.0  0.0  0.0  0.0  0.0\n",
       " 0.0  0.0  0.0  0.0  0.0  0.0  0.0  0.0  0.0  1.0  0.0  0.0  0.0\n",
       " 0.0  0.0  0.0  0.0  0.0  0.0  0.0  0.0  0.0  0.0  1.0  0.0  0.0\n",
       " 0.0  0.0  0.0  0.0  0.0  0.0  0.0  0.0  0.0  0.0  0.0  1.0  0.0\n",
       " 0.0  0.0  0.0  0.0  0.0  0.0  0.0  0.0  0.0  0.0  0.0  0.0  1.0\n",
       " 0.0  0.0  0.0  0.0  0.0  1.0  0.0  0.0  0.0  0.0  0.0  0.0  0.0\n",
       " 0.0  0.0  0.0  0.0  0.0  0.0  1.0  0.0  0.0  0.0  0.0  0.0  0.0\n",
       " 0.0  0.0  0.0  0.0  0.0  0.0  0.0  1.0  0.0  0.0  0.0  0.0  0.0\n",
       " 0.0  0.0  0.0  0.0  0.0  0.0  0.0  0.0  0.0  0.0  0.0  0.0  0.0\n",
       " 0.0  0.0  0.0  0.0  0.0  0.0  0.0  0.0  0.0  0.0  0.0  0.0  0.0\n",
       " 0.0  0.0  0.0  0.0  0.0  0.0  0.0  0.0  0.0  0.0  0.0  0.0  0.0\n",
       " 0.0  0.0  0.0  0.0  0.0  0.0  0.0  0.0  0.0  0.0  0.0  0.0  0.0"
      ]
     },
     "metadata": {},
     "output_type": "display_data"
    }
   ],
   "source": [
    "row_start = g1_dim[1]+1\n",
    "row_end = g1_dim[1] + g2_dim[1]\n",
    "col_start = 1\n",
    "col_end = g1_dim[2]\n",
    "W12 = S[row_start:row_end, col_start:col_end]"
   ]
  },
  {
   "cell_type": "markdown",
   "metadata": {},
   "source": [
    "$$W_{13}$$"
   ]
  },
  {
   "cell_type": "code",
   "execution_count": 5,
   "metadata": {},
   "outputs": [
    {
     "data": {
      "text/plain": [
       "6×13 Matrix{Float64}:\n",
       " 0.0  0.0  0.0  0.0  0.0  0.0  0.0  0.0  0.0  0.0  0.0  0.0  0.0\n",
       " 0.0  0.0  0.0  0.0  0.0  0.0  0.0  0.0  0.0  0.0  0.0  0.0  0.0\n",
       " 0.0  0.0  0.0  0.0  0.0  0.0  0.0  0.0  0.0  0.0  0.0  0.0  0.0\n",
       " 0.0  0.0  0.0  0.0  0.0  0.0  0.0  0.0  0.0  0.0  0.0  0.0  0.0\n",
       " 0.0  0.0  0.0  0.0  0.0  0.0  0.0  0.0  0.0  0.0  0.0  0.0  0.0\n",
       " 0.0  0.0  0.0  0.0  0.0  0.0  0.0  0.0  0.0  0.0  0.0  0.0  0.0"
      ]
     },
     "metadata": {},
     "output_type": "display_data"
    }
   ],
   "source": [
    "row_start = g1_dim[1] + g2_dim[1] +1\n",
    "row_end = g1_dim[1] + g2_dim[1] + g3_dim[1]\n",
    "col_start = 1\n",
    "col_end = g1_dim[2]\n",
    "W13 = S[row_start:row_end, col_start:col_end]"
   ]
  },
  {
   "cell_type": "markdown",
   "metadata": {},
   "source": [
    "$$W_{23}$$"
   ]
  },
  {
   "cell_type": "code",
   "execution_count": 6,
   "metadata": {},
   "outputs": [
    {
     "data": {
      "text/plain": [
       "6×12 Matrix{Float64}:\n",
       " 0.0  0.0  0.0  0.0  0.0  0.0  0.0  0.0  0.0  0.0  1.0  0.0\n",
       " 0.0  0.0  0.0  0.0  0.0  0.0  0.0  0.0  0.0  0.0  0.0  0.0\n",
       " 0.0  0.0  0.0  0.0  0.0  0.0  0.0  0.0  0.0  0.0  0.0  1.0\n",
       " 0.0  0.0  0.0  0.0  0.0  0.0  0.0  0.0  0.0  0.0  0.0  0.0\n",
       " 0.0  0.0  0.0  0.0  0.0  0.0  0.0  0.0  0.0  0.0  0.0  0.0\n",
       " 0.0  0.0  0.0  0.0  0.0  0.0  0.0  0.0  0.0  0.0  0.0  0.0"
      ]
     },
     "metadata": {},
     "output_type": "display_data"
    }
   ],
   "source": [
    "row_start = g1_dim[1] + g2_dim[1] +1\n",
    "row_end = g1_dim[1] + g2_dim[1] + g3_dim[1]\n",
    "col_start = g1_dim[2]+1\n",
    "col_end = g1_dim[2] + g2_dim[2]\n",
    "W23  = S[row_start:row_end, col_start:col_end]"
   ]
  },
  {
   "cell_type": "markdown",
   "metadata": {},
   "source": [
    "## Diagonal In-Degree Submatrices $K_{vp}$\n",
    "\n",
    "$K_{vp}$ is the in-degree submatrix from $G_v$ to $G_p$.\n",
    "\n",
    "\n",
    "> In our case we just need K?\n",
    ">\n",
    "> What shape would $K_{12}$ have? wouldn't it just be the number of connections, i.e. 7"
   ]
  },
  {
   "cell_type": "code",
   "execution_count": 7,
   "metadata": {},
   "outputs": [
    {
     "data": {
      "text/plain": [
       "3×3 Matrix{Int64}:\n",
       " 7  0  0\n",
       " 0  0  0\n",
       " 0  0  2"
      ]
     },
     "metadata": {},
     "output_type": "display_data"
    }
   ],
   "source": [
    "K = [[sum(W12 .== 1),0,0] [0,sum(W13 .== 1),0] [0,0,sum(W23 .== 1)]]"
   ]
  },
  {
   "cell_type": "markdown",
   "metadata": {},
   "source": [
    "(Now Same Clusters)"
   ]
  },
  {
   "cell_type": "code",
   "execution_count": 8,
   "metadata": {},
   "outputs": [
    {
     "data": {
      "text/plain": [
       "3×3 Matrix{Int64}:\n",
       " 40   0   0\n",
       "  0  52   0\n",
       "  0   0  14"
      ]
     },
     "metadata": {},
     "output_type": "display_data"
    }
   ],
   "source": [
    "K2 = [[sum(G1 .==1), 0, 0] [0, sum(G2 .==1), 0] [0, 0, sum(G3 .==1)]]"
   ]
  },
  {
   "cell_type": "markdown",
   "metadata": {},
   "source": [
    "## Compatibility Equations"
   ]
  },
  {
   "cell_type": "markdown",
   "metadata": {},
   "source": [
    "$$W_{vp}^\\prime \\hat a_v= \\lambda_{vp}^\\prime\\hat a_p$$\n",
    "fixed $v$, variable $p$."
   ]
  },
  {
   "cell_type": "markdown",
   "metadata": {},
   "source": [
    "$$W^\\prime_{vp} = W^T_{pp}\\quad \\text{ if }\\quad v=p\\quad \\text { or }\\quad W^\\prime_{vp} = W^T_{pv}W^T_{vp}\\quad \\text{ if }\\quad v\\ne p$$\n",
    "$$\\lambda^\\prime_{vp} = \\lambda_{pp}\\quad \\text{ if }\\quad v=p\\quad \\text { or }\\quad \\lambda^\\prime_{vp} = \\lambda_{pv}\\lambda_{vp}\\quad \\text{ if }\\quad v\\ne p$$"
   ]
  },
  {
   "cell_type": "code",
   "execution_count": 9,
   "metadata": {},
   "outputs": [
    {
     "data": {
      "text/plain": [
       "6×6 Matrix{Float64}:\n",
       " 1.0  0.0  0.0  0.0  0.0  0.0\n",
       " 0.0  0.0  0.0  0.0  0.0  0.0\n",
       " 0.0  0.0  1.0  0.0  0.0  0.0\n",
       " 0.0  0.0  0.0  0.0  0.0  0.0\n",
       " 0.0  0.0  0.0  0.0  0.0  0.0\n",
       " 0.0  0.0  0.0  0.0  0.0  0.0"
      ]
     },
     "metadata": {},
     "output_type": "display_data"
    }
   ],
   "source": [
    "# Matrices\n",
    "W11p = G1'\n",
    "W22p = G2'\n",
    "W33p = G3'\n",
    "\n",
    "W12p = W12 * W12' # we have to transpose only one? otherwise we cannot compute the product.\n",
    "W13p = W13 * W13'\n",
    "W23p = W23 * W23'"
   ]
  },
  {
   "cell_type": "code",
   "execution_count": 10,
   "metadata": {},
   "outputs": [
    {
     "name": "stdout",
     "output_type": "stream",
     "text": [
      "λ₁₁: 3.4203762111170852\n",
      "λ₂₂: 4.694988076660709\n",
      "λ₃₃: 2.7092753594369223\n",
      "λ₁₂: 1.0\n",
      "λ₁₃: 0.0\n",
      "λ₂₃: 1.0\n"
     ]
    }
   ],
   "source": [
    "# Eigenvalues\n",
    "λ11 = eigmax(W11p)\n",
    "λ22 = eigmax(W22p)\n",
    "λ33 = eigmax(W33p)\n",
    "\n",
    "λ12 = eigmax(W12p) * eigmax(W12p)\n",
    "λ13 = eigmax(W13p) * eigmax(W13p)\n",
    "λ23 = eigmax(W23p) * eigmax(W23p)\n",
    "\n",
    "println(\"λ₁₁: \", λ11)\n",
    "println(\"λ₂₂: \", λ22)\n",
    "println(\"λ₃₃: \", λ33)\n",
    "println(\"λ₁₂: \", λ12)\n",
    "println(\"λ₁₃: \", λ13)\n",
    "println(\"λ₂₃: \", λ23)"
   ]
  },
  {
   "cell_type": "markdown",
   "metadata": {},
   "source": [
    "$$\\hat a_v= x_1u_1+\\dots+x_ru_r$$\n",
    "$$\\{u_i\\}\\in\\mathbb R^{m_v}$$\n",
    "$$m_v = |G_p|$$"
   ]
  },
  {
   "cell_type": "markdown",
   "metadata": {},
   "source": [
    "$$\\hat{\\mathbf{C}}\\ \\mathbf y = (0,\\dots,0,1)^T$$\n",
    "$$\\mathbf{y}:=(x_1,\\ \\dots\\ ,\\ x_r,\\ K)$$\n",
    "$$\\hat{\\mathbf C}=\\left(\\frac{C}{1^{T}}\\frac{-1}{0}\\right)$$\n",
    "$$C=(c_{st})_{s,t} \\quad\\text{ is }\\quad r\\times r$$"
   ]
  },
  {
   "cell_type": "markdown",
   "metadata": {},
   "source": [
    "$$c_{st}:=\\sum_{p=1}^n\\langle W^\\prime_{vp} u_s- \\lambda^\\prime_{vp} u_s,\\ W^\\prime_{vp} u_t- \\lambda^\\prime_{vp} u_t\\rangle$$"
   ]
  },
  {
   "cell_type": "markdown",
   "metadata": {},
   "source": [
    "A solution that is not restricted to a particular subspace is obtained when $r = m_v$ and $u_1,\\dots, u_{m_v}$ is the canonical basis of $\\mathbb R^{m_v}$. This solution is the one with the smallest error."
   ]
  },
  {
   "cell_type": "code",
   "execution_count": 11,
   "metadata": {},
   "outputs": [
    {
     "data": {
      "text/plain": [
       "13×13 Matrix{Float64}:\n",
       " 1743.5  0.0  0.0  0.0  0.0  0.0  0.0  0.0  0.0  0.0  0.0  0.0  0.0\n",
       "    0.0  0.0  0.0  0.0  0.0  0.0  0.0  0.0  0.0  0.0  0.0  0.0  0.0\n",
       "    0.0  0.0  0.0  0.0  0.0  0.0  0.0  0.0  0.0  0.0  0.0  0.0  0.0\n",
       "    0.0  0.0  0.0  0.0  0.0  0.0  0.0  0.0  0.0  0.0  0.0  0.0  0.0\n",
       "    0.0  0.0  0.0  0.0  0.0  0.0  0.0  0.0  0.0  0.0  0.0  0.0  0.0\n",
       "    0.0  0.0  0.0  0.0  0.0  0.0  0.0  0.0  0.0  0.0  0.0  0.0  0.0\n",
       "    0.0  0.0  0.0  0.0  0.0  0.0  0.0  0.0  0.0  0.0  0.0  0.0  0.0\n",
       "    0.0  0.0  0.0  0.0  0.0  0.0  0.0  0.0  0.0  0.0  0.0  0.0  0.0\n",
       "    0.0  0.0  0.0  0.0  0.0  0.0  0.0  0.0  0.0  0.0  0.0  0.0  0.0\n",
       "    0.0  0.0  0.0  0.0  0.0  0.0  0.0  0.0  0.0  0.0  0.0  0.0  0.0\n",
       "    0.0  0.0  0.0  0.0  0.0  0.0  0.0  0.0  0.0  0.0  0.0  0.0  0.0\n",
       "    0.0  0.0  0.0  0.0  0.0  0.0  0.0  0.0  0.0  0.0  0.0  0.0  0.0\n",
       "    0.0  0.0  0.0  0.0  0.0  0.0  0.0  0.0  0.0  0.0  0.0  0.0  0.0"
      ]
     },
     "metadata": {},
     "output_type": "display_data"
    }
   ],
   "source": [
    "# CLUSTER 1\n",
    "\n",
    "# canonical basis\n",
    "canonical_basis = Diagonal(ones(13))\n",
    "\n",
    "e1 = canonical_basis[:,1]\n",
    "e2 = canonical_basis[:,2]\n",
    "e3 = canonical_basis[:,3]\n",
    "e4 = canonical_basis[:,4]\n",
    "e5 = canonical_basis[:,5]\n",
    "e6 = canonical_basis[:,6]\n",
    "e7 = canonical_basis[:,7]\n",
    "e8 = canonical_basis[:,8]\n",
    "e9 = canonical_basis[:,9]\n",
    "e10 = canonical_basis[:,10]\n",
    "e11 = canonical_basis[:,11]\n",
    "e12 = canonical_basis[:,12]\n",
    "e13 = canonical_basis[:,13]\n",
    "\n",
    "u = [e1 e2 e3 e4 e5 e6 e7 e8 e9 e10 e11 e12 e13]\n",
    "\n",
    "# Matrix C\n",
    "r = 13\n",
    "C = zeros(r,r)\n",
    "\n",
    "# Loop over each element of the matrix and calculate the inner product\n",
    "for s in 1:r\n",
    "  for t in 1:r\n",
    "    C[s,t] = dot(W11p * u[s] .- λ11 * u[s], W11p * u[t] .- λ11 * u[t])\n",
    "                + dot(W12p * u[s] .- λ12 * u[s], W12p * u[t] .- λ12 * u[t])\n",
    "                + dot(W13p * u[s] .- λ13 * u[s], W13p * u[t] .- λ13 * u[t])\n",
    "  end\n",
    "end\n",
    "\n",
    "C"
   ]
  }
 ],
 "metadata": {
  "kernelspec": {
   "display_name": "Julia 1.10.2",
   "language": "julia",
   "name": "julia-1.10"
  },
  "language_info": {
   "file_extension": ".jl",
   "mimetype": "application/julia",
   "name": "julia",
   "version": "1.10.2"
  }
 },
 "nbformat": 4,
 "nbformat_minor": 2
}
