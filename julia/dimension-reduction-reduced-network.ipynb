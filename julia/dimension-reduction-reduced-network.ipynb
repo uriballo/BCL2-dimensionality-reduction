{
 "cells": [
  {
   "cell_type": "code",
   "execution_count": 1,
   "metadata": {},
   "outputs": [],
   "source": [
    "using MAT\n",
    "using DataStructures\n",
    "using LinearAlgebra"
   ]
  },
  {
   "cell_type": "markdown",
   "metadata": {},
   "source": [
    "# Matrices"
   ]
  },
  {
   "cell_type": "markdown",
   "metadata": {},
   "source": [
    "We load the precomputed matrices from MATLAB."
   ]
  },
  {
   "cell_type": "code",
   "execution_count": 2,
   "metadata": {},
   "outputs": [
    {
     "data": {
      "text/plain": [
       "MAT.MAT_v5.Matlabv5File(IOStream(<file ./matrices/S3-reduced.mat>), false, #undef)"
      ]
     },
     "metadata": {},
     "output_type": "display_data"
    }
   ],
   "source": [
    "adjacency_file = matopen(\"./matrices/adjacency-reduced.mat\")\n",
    "cluster1_file = matopen(\"./matrices/S1-reduced.mat\")\n",
    "cluster2_file = matopen(\"./matrices/S2-reduced.mat\")\n",
    "cluster3_file = matopen(\"./matrices/S3-reduced.mat\")"
   ]
  },
  {
   "cell_type": "code",
   "execution_count": 3,
   "metadata": {},
   "outputs": [
    {
     "name": "stdout",
     "output_type": "stream",
     "text": [
      "Matrix dimensions:\n",
      "\t[S] Adjacency matrix: (31, 31)\n",
      "\t[G1] Cluster 1: (13, 13)\n",
      "\t[G2] Cluster 2: (12, 12)\n",
      "\t[G3] Cluster 3: (6, 6)\n"
     ]
    }
   ],
   "source": [
    "S = read(adjacency_file, \"S\")\n",
    "G1 = read(cluster1_file, \"S1\")\n",
    "G2 = read(cluster2_file, \"S2\")\n",
    "G3 = read(cluster3_file, \"S3\")\n",
    "\n",
    "s_dim = size(S)\n",
    "g1_dim = size(G1)\n",
    "g2_dim = size(G2)\n",
    "g3_dim = size(G3)\n",
    "\n",
    "println(\"Matrix dimensions:\")\n",
    "println(\"\\t[S] Adjacency matrix: \", s_dim)\n",
    "println(\"\\t[G1] Cluster 1: \", g1_dim)\n",
    "println(\"\\t[G2] Cluster 2: \", g2_dim)\n",
    "println(\"\\t[G3] Cluster 3: \", g3_dim)"
   ]
  },
  {
   "cell_type": "markdown",
   "metadata": {},
   "source": [
    "## Adjacency Submatrices $W_{vp}$\n",
    "\n",
    "$W_{vp}$ is the submatrix of size $m_v \\times m_p$ consisting of all interactions between $G_p$ and $G_v$.\n",
    "\n",
    "($m_i$ is the size of the group $i$)"
   ]
  },
  {
   "cell_type": "markdown",
   "metadata": {},
   "source": [
    "$$W_{12}$$"
   ]
  },
  {
   "cell_type": "code",
   "execution_count": 4,
   "metadata": {},
   "outputs": [
    {
     "data": {
      "text/plain": [
       "12×13 Matrix{Float64}:\n",
       " 0.0  0.0  0.0  0.0  0.0  0.0  0.0  0.0  0.0  0.0  0.0  0.0  0.0\n",
       " 0.0  0.0  0.0  0.0  0.0  0.0  0.0  0.0  0.0  1.0  0.0  0.0  0.0\n",
       " 0.0  0.0  0.0  0.0  0.0  0.0  0.0  0.0  0.0  0.0  1.0  0.0  0.0\n",
       " 0.0  0.0  0.0  0.0  0.0  0.0  0.0  0.0  0.0  0.0  0.0  1.0  0.0\n",
       " 0.0  0.0  0.0  0.0  0.0  0.0  0.0  0.0  0.0  0.0  0.0  0.0  1.0\n",
       " 0.0  0.0  0.0  0.0  0.0  1.0  0.0  0.0  0.0  0.0  0.0  0.0  0.0\n",
       " 0.0  0.0  0.0  0.0  0.0  0.0  1.0  0.0  0.0  0.0  0.0  0.0  0.0\n",
       " 0.0  0.0  0.0  0.0  0.0  0.0  0.0  1.0  0.0  0.0  0.0  0.0  0.0\n",
       " 0.0  0.0  0.0  0.0  0.0  0.0  0.0  0.0  0.0  0.0  0.0  0.0  0.0\n",
       " 0.0  0.0  0.0  0.0  0.0  0.0  0.0  0.0  0.0  0.0  0.0  0.0  0.0\n",
       " 0.0  0.0  0.0  0.0  0.0  0.0  0.0  0.0  0.0  0.0  0.0  0.0  0.0\n",
       " 0.0  0.0  0.0  0.0  0.0  0.0  0.0  0.0  0.0  0.0  0.0  0.0  0.0"
      ]
     },
     "metadata": {},
     "output_type": "display_data"
    }
   ],
   "source": [
    "row_start = g1_dim[1]+1\n",
    "row_end = g1_dim[1] + g2_dim[1]\n",
    "col_start = 1\n",
    "col_end = g1_dim[2]\n",
    "W12 = S[row_start:row_end, col_start:col_end]"
   ]
  },
  {
   "cell_type": "markdown",
   "metadata": {},
   "source": [
    "$$W_{21}$$"
   ]
  },
  {
   "cell_type": "code",
   "execution_count": 5,
   "metadata": {},
   "outputs": [
    {
     "data": {
      "text/plain": [
       "13×12 Matrix{Float64}:\n",
       " 0.0  0.0  0.0  0.0  0.0  0.0  0.0  0.0  0.0  0.0  0.0  0.0\n",
       " 0.0  0.0  0.0  0.0  0.0  0.0  0.0  0.0  0.0  0.0  0.0  0.0\n",
       " 0.0  0.0  0.0  0.0  0.0  0.0  0.0  0.0  0.0  0.0  0.0  0.0\n",
       " 0.0  0.0  0.0  0.0  0.0  0.0  0.0  0.0  0.0  0.0  0.0  0.0\n",
       " 0.0  0.0  0.0  0.0  0.0  0.0  0.0  0.0  0.0  0.0  0.0  0.0\n",
       " 0.0  0.0  0.0  0.0  0.0  1.0  0.0  0.0  0.0  0.0  0.0  0.0\n",
       " 0.0  0.0  0.0  0.0  0.0  0.0  1.0  0.0  0.0  0.0  0.0  0.0\n",
       " 0.0  0.0  0.0  0.0  0.0  0.0  0.0  1.0  0.0  0.0  0.0  0.0\n",
       " 0.0  0.0  0.0  0.0  0.0  0.0  0.0  0.0  0.0  0.0  0.0  0.0\n",
       " 0.0  1.0  0.0  0.0  0.0  0.0  0.0  0.0  0.0  0.0  0.0  0.0\n",
       " 0.0  0.0  1.0  0.0  0.0  0.0  0.0  0.0  0.0  0.0  0.0  0.0\n",
       " 0.0  0.0  0.0  1.0  0.0  0.0  0.0  0.0  0.0  0.0  0.0  0.0\n",
       " 0.0  0.0  0.0  0.0  1.0  0.0  0.0  0.0  0.0  0.0  0.0  0.0"
      ]
     },
     "metadata": {},
     "output_type": "display_data"
    }
   ],
   "source": [
    "row_start = 1\n",
    "row_end = g1_dim[1]\n",
    "col_start = g1_dim[2] + 1                            # Same column range as W12\n",
    "col_end = col_start -1 + g2_dim[2]\n",
    "W21 = S[row_start:row_end, col_start:col_end]"
   ]
  },
  {
   "cell_type": "code",
   "execution_count": 12,
   "metadata": {},
   "outputs": [
    {
     "data": {
      "text/plain": [
       "true"
      ]
     },
     "metadata": {},
     "output_type": "display_data"
    }
   ],
   "source": [
    "W12 == W21'"
   ]
  },
  {
   "cell_type": "markdown",
   "metadata": {},
   "source": [
    "$$W_{13}$$"
   ]
  },
  {
   "cell_type": "code",
   "execution_count": 6,
   "metadata": {},
   "outputs": [
    {
     "data": {
      "text/plain": [
       "6×13 Matrix{Float64}:\n",
       " 0.0  0.0  0.0  0.0  0.0  0.0  0.0  0.0  0.0  0.0  0.0  0.0  0.0\n",
       " 0.0  0.0  0.0  0.0  0.0  0.0  0.0  0.0  0.0  0.0  0.0  0.0  0.0\n",
       " 0.0  0.0  0.0  0.0  0.0  0.0  0.0  0.0  0.0  0.0  0.0  0.0  0.0\n",
       " 0.0  0.0  0.0  0.0  0.0  0.0  0.0  0.0  0.0  0.0  0.0  0.0  0.0\n",
       " 0.0  0.0  0.0  0.0  0.0  0.0  0.0  0.0  0.0  0.0  0.0  0.0  0.0\n",
       " 0.0  0.0  0.0  0.0  0.0  0.0  0.0  0.0  0.0  0.0  0.0  0.0  0.0"
      ]
     },
     "metadata": {},
     "output_type": "display_data"
    }
   ],
   "source": [
    "row_start = g1_dim[1] + g2_dim[1] +1\n",
    "row_end = g1_dim[1] + g2_dim[1] + g3_dim[1]\n",
    "col_start = 1\n",
    "col_end = g1_dim[2]\n",
    "W13 = S[row_start:row_end, col_start:col_end]"
   ]
  },
  {
   "cell_type": "markdown",
   "metadata": {},
   "source": [
    "$$W_{31}$$"
   ]
  },
  {
   "cell_type": "code",
   "execution_count": 13,
   "metadata": {},
   "outputs": [
    {
     "data": {
      "text/plain": [
       "13×6 adjoint(::Matrix{Float64}) with eltype Float64:\n",
       " 0.0  0.0  0.0  0.0  0.0  0.0\n",
       " 0.0  0.0  0.0  0.0  0.0  0.0\n",
       " 0.0  0.0  0.0  0.0  0.0  0.0\n",
       " 0.0  0.0  0.0  0.0  0.0  0.0\n",
       " 0.0  0.0  0.0  0.0  0.0  0.0\n",
       " 0.0  0.0  0.0  0.0  0.0  0.0\n",
       " 0.0  0.0  0.0  0.0  0.0  0.0\n",
       " 0.0  0.0  0.0  0.0  0.0  0.0\n",
       " 0.0  0.0  0.0  0.0  0.0  0.0\n",
       " 0.0  0.0  0.0  0.0  0.0  0.0\n",
       " 0.0  0.0  0.0  0.0  0.0  0.0\n",
       " 0.0  0.0  0.0  0.0  0.0  0.0\n",
       " 0.0  0.0  0.0  0.0  0.0  0.0"
      ]
     },
     "metadata": {},
     "output_type": "display_data"
    }
   ],
   "source": [
    "W31 = W13'\n",
    "W31"
   ]
  },
  {
   "cell_type": "markdown",
   "metadata": {},
   "source": [
    "$$W_{23}$$"
   ]
  },
  {
   "cell_type": "code",
   "execution_count": 7,
   "metadata": {},
   "outputs": [
    {
     "data": {
      "text/plain": [
       "6×12 Matrix{Float64}:\n",
       " 0.0  0.0  0.0  0.0  0.0  0.0  0.0  0.0  0.0  0.0  1.0  0.0\n",
       " 0.0  0.0  0.0  0.0  0.0  0.0  0.0  0.0  0.0  0.0  0.0  0.0\n",
       " 0.0  0.0  0.0  0.0  0.0  0.0  0.0  0.0  0.0  0.0  0.0  1.0\n",
       " 0.0  0.0  0.0  0.0  0.0  0.0  0.0  0.0  0.0  0.0  0.0  0.0\n",
       " 0.0  0.0  0.0  0.0  0.0  0.0  0.0  0.0  0.0  0.0  0.0  0.0\n",
       " 0.0  0.0  0.0  0.0  0.0  0.0  0.0  0.0  0.0  0.0  0.0  0.0"
      ]
     },
     "metadata": {},
     "output_type": "display_data"
    }
   ],
   "source": [
    "row_start = g1_dim[1] + g2_dim[1] +1\n",
    "row_end = g1_dim[1] + g2_dim[1] + g3_dim[1]\n",
    "col_start = g1_dim[2]+1\n",
    "col_end = g1_dim[2] + g2_dim[2]\n",
    "W23  = S[row_start:row_end, col_start:col_end]"
   ]
  },
  {
   "cell_type": "markdown",
   "metadata": {},
   "source": [
    "$$W_{32}$$"
   ]
  },
  {
   "cell_type": "code",
   "execution_count": 14,
   "metadata": {},
   "outputs": [
    {
     "data": {
      "text/plain": [
       "12×6 adjoint(::Matrix{Float64}) with eltype Float64:\n",
       " 0.0  0.0  0.0  0.0  0.0  0.0\n",
       " 0.0  0.0  0.0  0.0  0.0  0.0\n",
       " 0.0  0.0  0.0  0.0  0.0  0.0\n",
       " 0.0  0.0  0.0  0.0  0.0  0.0\n",
       " 0.0  0.0  0.0  0.0  0.0  0.0\n",
       " 0.0  0.0  0.0  0.0  0.0  0.0\n",
       " 0.0  0.0  0.0  0.0  0.0  0.0\n",
       " 0.0  0.0  0.0  0.0  0.0  0.0\n",
       " 0.0  0.0  0.0  0.0  0.0  0.0\n",
       " 0.0  0.0  0.0  0.0  0.0  0.0\n",
       " 1.0  0.0  0.0  0.0  0.0  0.0\n",
       " 0.0  0.0  1.0  0.0  0.0  0.0"
      ]
     },
     "metadata": {},
     "output_type": "display_data"
    }
   ],
   "source": [
    "W32 = W23'\n",
    "W32"
   ]
  },
  {
   "cell_type": "markdown",
   "metadata": {},
   "source": [
    "## Global Diagonal In-Degree Submatrix"
   ]
  },
  {
   "cell_type": "code",
   "execution_count": 8,
   "metadata": {},
   "outputs": [
    {
     "data": {
      "text/plain": [
       "3×3 Matrix{Int64}:\n",
       " 7  0  0\n",
       " 0  0  0\n",
       " 0  0  2"
      ]
     },
     "metadata": {},
     "output_type": "display_data"
    }
   ],
   "source": [
    "K = [[sum(W12 .== 1),0,0] [0,sum(W13 .== 1),0] [0,0,sum(W23 .== 1)]]"
   ]
  },
  {
   "cell_type": "markdown",
   "metadata": {},
   "source": [
    "## Compatibility Equations"
   ]
  },
  {
   "cell_type": "markdown",
   "metadata": {},
   "source": [
    "$$W_{vp}^\\prime \\hat a_v= \\lambda_{vp}^\\prime\\hat a_p$$\n",
    "we focus on fixed $v$, variable $p$."
   ]
  },
  {
   "cell_type": "markdown",
   "metadata": {},
   "source": [
    "$$W^\\prime_{vp} = W^T_{pp}\\quad \\text{ if }\\quad v=p\\quad \\text { or }\\quad W^\\prime_{vp} = W^T_{pv}W^T_{vp}\\quad \\text{ if }\\quad v\\ne p$$\n",
    "$$\\lambda^\\prime_{vp} = \\lambda_{pp}\\quad \\text{ if }\\quad v=p\\quad \\text { or }\\quad \\lambda^\\prime_{vp} = \\lambda_{pv}\\lambda_{vp}\\quad \\text{ if }\\quad v\\ne p$$"
   ]
  },
  {
   "cell_type": "code",
   "execution_count": 17,
   "metadata": {},
   "outputs": [
    {
     "data": {
      "text/plain": [
       "6×6 adjoint(::Matrix{Float64}) with eltype Float64:\n",
       " 0.0  1.0  0.0  0.0  1.0  0.0\n",
       " 1.0  0.0  0.0  0.0  1.0  0.0\n",
       " 0.0  0.0  0.0  1.0  1.0  0.0\n",
       " 0.0  0.0  1.0  0.0  1.0  0.0\n",
       " 1.0  1.0  1.0  1.0  0.0  1.0\n",
       " 0.0  0.0  0.0  0.0  1.0  0.0"
      ]
     },
     "metadata": {},
     "output_type": "display_data"
    }
   ],
   "source": [
    "W11p = G1'\n",
    "W12p = W12' * W21'\n",
    "W21p = W21' * W12'\n",
    "W31p = W31' * W13'\n",
    "W22p = G2'\n",
    "W23p = W23' * W32'\n",
    "W32p = W32' * W23'\n",
    "W13p = G3'"
   ]
  },
  {
   "cell_type": "code",
   "execution_count": 18,
   "metadata": {},
   "outputs": [
    {
     "name": "stdout",
     "output_type": "stream",
     "text": [
      "λ₁₁: 3.4203762111170875\n",
      "v11: [-0.1719389806589758, -0.12072895324281166, -0.17331904636202894, -0.17331904636202894, -0.12072895324281165, -0.24099945900580494, -0.4208773624512082, -0.4208773624512082, -0.2409994590058049, -0.31655996799094643, -0.24610004074010916, -0.3165599679909463, -0.38701989524178493]\n",
      "λ₂₂: 4.694988076660711\n",
      "v22: [0.06177615655203378, -0.33155016957185446, -0.22158539019499796, -0.27625513556913817, -0.33155016957185446, 0.2596095253413012, 0.36564611534649305, 0.36564611534649305, -0.29003831843372513, -0.2657249684875209, 0.3090485342347392, 0.2566738026856661]\n",
      "λ₃₃: 2.7092753594369228\n",
      "v33: [-0.3696193697696122, -0.3696193697696122, -0.3696193697696122, -0.3696193697696122, -0.6317812811178026, -0.23319197840750588]\n",
      "λ₁₂: 1.0\n",
      "λ₁₃: 7.340172973252065\n",
      "λ₂₃: 1.0\n"
     ]
    }
   ],
   "source": [
    "function dominant_eigenpair(A)\n",
    "    v = eigen(A)\n",
    "    eigenvalues = v.values\n",
    "    eigenvectors = v.vectors\n",
    "    max_eigenvalue = maximum(abs.(eigenvalues))\n",
    "    max_eigenvalue_index = argmax(abs.(eigenvalues))\n",
    "    max_eigenvector = eigenvectors[:, max_eigenvalue_index]\n",
    "    return (max_eigenvalue, max_eigenvector)\n",
    "end\n",
    "\n",
    "# Eigenvalues\n",
    "λ11, v11 = dominant_eigenpair(W11p)\n",
    "\n",
    "λ22, v22 = dominant_eigenpair(W22p)\n",
    "\n",
    "λ33, v33 = dominant_eigenpair(W33p)\n",
    "\n",
    "λ12 = eigmax(W12p) * eigmax(W12p)\n",
    "λ13 = eigmax(W13p) * eigmax(W13p)\n",
    "λ23 = eigmax(W23p) * eigmax(W23p)\n",
    "\n",
    "println(\"λ₁₁: \", λ11)\n",
    "println(\"v11: \", v11)\n",
    "\n",
    "println(\"λ₂₂: \", λ22)\n",
    "println(\"v22: \", v22)\n",
    "\n",
    "println(\"λ₃₃: \", λ33)\n",
    "println(\"v33: \", v33)\n",
    "\n",
    "println(\"λ₁₂: \", λ12)\n",
    "println(\"λ₁₃: \", λ13)\n",
    "println(\"λ₂₃: \", λ23)"
   ]
  },
  {
   "cell_type": "markdown",
   "metadata": {},
   "source": [
    "$$\\hat a_v= x_1u_1+\\dots+x_ru_r$$\n",
    "$$\\{u_i\\}\\in\\mathbb R^{m_v}$$\n",
    "$$m_v = |G_p|$$"
   ]
  },
  {
   "cell_type": "markdown",
   "metadata": {},
   "source": [
    "$$\\hat{\\mathbf{C}}\\ \\mathbf y = (0,\\dots,0,1)^T$$\n",
    "$$\\mathbf{y}:=(x_1,\\ \\dots\\ ,\\ x_r,\\ K)$$\n",
    "$$\\hat{\\mathbf C}=\\left(\\frac{C}{1^{T}}\\frac{-1}{0}\\right)$$\n",
    "$$C=(c_{st})_{s,t} \\quad\\text{ is }\\quad r\\times r$$"
   ]
  },
  {
   "cell_type": "markdown",
   "metadata": {},
   "source": [
    "$$c_{st}:=\\sum_{p=1}^n\\langle W^\\prime_{vp} u_s- \\lambda^\\prime_{vp} u_s,\\ W^\\prime_{vp} u_t- \\lambda^\\prime_{vp} u_t\\rangle$$"
   ]
  },
  {
   "cell_type": "markdown",
   "metadata": {},
   "source": [
    "A solution that is not restricted to a particular subspace is obtained when $r = m_v$ and $u_1,\\dots, u_{m_v}$ is the canonical basis of $\\mathbb R^{m_v}$. This solution is the one with the smallest error."
   ]
  },
  {
   "cell_type": "code",
   "execution_count": 19,
   "metadata": {},
   "outputs": [
    {
     "data": {
      "text/plain": [
       "13×13 Matrix{Float64}:\n",
       " 1743.5  0.0  0.0  0.0  0.0  0.0  0.0  0.0  0.0  0.0  0.0  0.0  0.0\n",
       "    0.0  0.0  0.0  0.0  0.0  0.0  0.0  0.0  0.0  0.0  0.0  0.0  0.0\n",
       "    0.0  0.0  0.0  0.0  0.0  0.0  0.0  0.0  0.0  0.0  0.0  0.0  0.0\n",
       "    0.0  0.0  0.0  0.0  0.0  0.0  0.0  0.0  0.0  0.0  0.0  0.0  0.0\n",
       "    0.0  0.0  0.0  0.0  0.0  0.0  0.0  0.0  0.0  0.0  0.0  0.0  0.0\n",
       "    0.0  0.0  0.0  0.0  0.0  0.0  0.0  0.0  0.0  0.0  0.0  0.0  0.0\n",
       "    0.0  0.0  0.0  0.0  0.0  0.0  0.0  0.0  0.0  0.0  0.0  0.0  0.0\n",
       "    0.0  0.0  0.0  0.0  0.0  0.0  0.0  0.0  0.0  0.0  0.0  0.0  0.0\n",
       "    0.0  0.0  0.0  0.0  0.0  0.0  0.0  0.0  0.0  0.0  0.0  0.0  0.0\n",
       "    0.0  0.0  0.0  0.0  0.0  0.0  0.0  0.0  0.0  0.0  0.0  0.0  0.0\n",
       "    0.0  0.0  0.0  0.0  0.0  0.0  0.0  0.0  0.0  0.0  0.0  0.0  0.0\n",
       "    0.0  0.0  0.0  0.0  0.0  0.0  0.0  0.0  0.0  0.0  0.0  0.0  0.0\n",
       "    0.0  0.0  0.0  0.0  0.0  0.0  0.0  0.0  0.0  0.0  0.0  0.0  0.0"
      ]
     },
     "metadata": {},
     "output_type": "display_data"
    }
   ],
   "source": [
    "# CLUSTER 1\n",
    "\n",
    "# canonical basis\n",
    "canonical_basis = Diagonal(ones(13))\n",
    "\n",
    "e1 = canonical_basis[:,1]\n",
    "e2 = canonical_basis[:,2]\n",
    "e3 = canonical_basis[:,3]\n",
    "e4 = canonical_basis[:,4]\n",
    "e5 = canonical_basis[:,5]\n",
    "e6 = canonical_basis[:,6]\n",
    "e7 = canonical_basis[:,7]\n",
    "e8 = canonical_basis[:,8]\n",
    "e9 = canonical_basis[:,9]\n",
    "e10 = canonical_basis[:,10]\n",
    "e11 = canonical_basis[:,11]\n",
    "e12 = canonical_basis[:,12]\n",
    "e13 = canonical_basis[:,13]\n",
    "\n",
    "u = [e1 e2 e3 e4 e5 e6 e7 e8 e9 e10 e11 e12 e13]\n",
    "\n",
    "# Matrix C\n",
    "r = 13\n",
    "C = zeros(r,r)\n",
    "\n",
    "# Loop over each element of the matrix and calculate the inner product\n",
    "for s in 1:r\n",
    "  for t in 1:r\n",
    "    C[s,t] = dot(W11p * u[s] .- λ11 * u[s], W11p * u[t] .- λ11 * u[t])\n",
    "                + dot(W12p * u[s] .- λ12 * u[s], W12p * u[t] .- λ12 * u[t])\n",
    "                + dot(W13p * u[s] .- λ13 * u[s], W13p * u[t] .- λ13 * u[t])\n",
    "  end\n",
    "end\n",
    "\n",
    "C"
   ]
  }
 ],
 "metadata": {
  "kernelspec": {
   "display_name": "Julia 1.10.2",
   "language": "julia",
   "name": "julia-1.10"
  },
  "language_info": {
   "file_extension": ".jl",
   "mimetype": "application/julia",
   "name": "julia",
   "version": "1.10.2"
  }
 },
 "nbformat": 4,
 "nbformat_minor": 2
}
