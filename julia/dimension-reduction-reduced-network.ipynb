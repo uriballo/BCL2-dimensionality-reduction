{
 "cells": [
  {
   "cell_type": "code",
   "execution_count": 62,
   "metadata": {},
   "outputs": [],
   "source": [
    "using MAT\n",
    "using DataStructures\n",
    "using LinearAlgebra"
   ]
  },
  {
   "cell_type": "markdown",
   "metadata": {},
   "source": [
    "# Matrices"
   ]
  },
  {
   "cell_type": "markdown",
   "metadata": {},
   "source": [
    "We load the precomputed matrices from MATLAB."
   ]
  },
  {
   "cell_type": "code",
   "execution_count": 63,
   "metadata": {},
   "outputs": [
    {
     "data": {
      "text/plain": [
       "MAT.MAT_v5.Matlabv5File(IOStream(<file ./matrices/S3-reduced.mat>), false, #undef)"
      ]
     },
     "metadata": {},
     "output_type": "display_data"
    }
   ],
   "source": [
    "adjacency_file = matopen(\"./matrices/adjacency-reduced.mat\")\n",
    "cluster1_file = matopen(\"./matrices/S1-reduced.mat\")\n",
    "cluster2_file = matopen(\"./matrices/S2-reduced.mat\")\n",
    "cluster3_file = matopen(\"./matrices/S3-reduced.mat\")"
   ]
  },
  {
   "cell_type": "code",
   "execution_count": 94,
   "metadata": {},
   "outputs": [
    {
     "name": "stdout",
     "output_type": "stream",
     "text": [
      "Matrix dimensions:\n",
      "\t[S] Adjacency matrix: (31, 31)\n",
      "\t[G1] Cluster 1: (13, 13)\n",
      "\t[G2] Cluster 2: (12, 12)\n",
      "\t[G3] Cluster 3: (6, 6)\n"
     ]
    }
   ],
   "source": [
    "S = read(adjacency_file, \"S\")\n",
    "G1 = read(cluster1_file, \"S1\")\n",
    "G2 = read(cluster2_file, \"S2\")\n",
    "G3 = read(cluster3_file, \"S3\")\n",
    "\n",
    "s_dim = size(S)\n",
    "g1_dim = size(G1)\n",
    "g2_dim = size(G2)\n",
    "g3_dim = size(G3)\n",
    "\n",
    "println(\"Matrix dimensions:\")\n",
    "println(\"\\t[S] Adjacency matrix: \", s_dim)\n",
    "println(\"\\t[G1] Cluster 1: \", s1_dim)\n",
    "println(\"\\t[G2] Cluster 2: \", s2_dim)\n",
    "println(\"\\t[G3] Cluster 3: \", s3_dim)"
   ]
  },
  {
   "cell_type": "markdown",
   "metadata": {},
   "source": [
    "## Adjacency Submatrices $W_{vp}$\n",
    "\n",
    "$W_{vp}$ is the adjacency matrix consisting of all interactions between $G_p$ and $G_v$"
   ]
  },
  {
   "cell_type": "markdown",
   "metadata": {},
   "source": [
    "$$W_{12}$$"
   ]
  },
  {
   "cell_type": "code",
   "execution_count": 65,
   "metadata": {},
   "outputs": [
    {
     "data": {
      "text/plain": [
       "12×13 Matrix{Float64}:\n",
       " 0.0  0.0  0.0  0.0  0.0  0.0  0.0  0.0  0.0  0.0  0.0  0.0  0.0\n",
       " 0.0  0.0  0.0  0.0  0.0  0.0  0.0  0.0  0.0  1.0  0.0  0.0  0.0\n",
       " 0.0  0.0  0.0  0.0  0.0  0.0  0.0  0.0  0.0  0.0  1.0  0.0  0.0\n",
       " 0.0  0.0  0.0  0.0  0.0  0.0  0.0  0.0  0.0  0.0  0.0  1.0  0.0\n",
       " 0.0  0.0  0.0  0.0  0.0  0.0  0.0  0.0  0.0  0.0  0.0  0.0  1.0\n",
       " 0.0  0.0  0.0  0.0  0.0  1.0  0.0  0.0  0.0  0.0  0.0  0.0  0.0\n",
       " 0.0  0.0  0.0  0.0  0.0  0.0  1.0  0.0  0.0  0.0  0.0  0.0  0.0\n",
       " 0.0  0.0  0.0  0.0  0.0  0.0  0.0  1.0  0.0  0.0  0.0  0.0  0.0\n",
       " 0.0  0.0  0.0  0.0  0.0  0.0  0.0  0.0  0.0  0.0  0.0  0.0  0.0\n",
       " 0.0  0.0  0.0  0.0  0.0  0.0  0.0  0.0  0.0  0.0  0.0  0.0  0.0\n",
       " 0.0  0.0  0.0  0.0  0.0  0.0  0.0  0.0  0.0  0.0  0.0  0.0  0.0\n",
       " 0.0  0.0  0.0  0.0  0.0  0.0  0.0  0.0  0.0  0.0  0.0  0.0  0.0"
      ]
     },
     "metadata": {},
     "output_type": "display_data"
    }
   ],
   "source": [
    "row_start = s1_dim[1]+1\n",
    "row_end = s1_dim[1] + s2_dim[1]\n",
    "col_start = 1\n",
    "col_end = s1_dim[2]\n",
    "W12 = S[row_start:row_end, col_start:col_end]"
   ]
  },
  {
   "cell_type": "markdown",
   "metadata": {},
   "source": [
    "$$W_{13}$$"
   ]
  },
  {
   "cell_type": "code",
   "execution_count": 66,
   "metadata": {},
   "outputs": [
    {
     "data": {
      "text/plain": [
       "6×13 Matrix{Float64}:\n",
       " 0.0  0.0  0.0  0.0  0.0  0.0  0.0  0.0  0.0  0.0  0.0  0.0  0.0\n",
       " 0.0  0.0  0.0  0.0  0.0  0.0  0.0  0.0  0.0  0.0  0.0  0.0  0.0\n",
       " 0.0  0.0  0.0  0.0  0.0  0.0  0.0  0.0  0.0  0.0  0.0  0.0  0.0\n",
       " 0.0  0.0  0.0  0.0  0.0  0.0  0.0  0.0  0.0  0.0  0.0  0.0  0.0\n",
       " 0.0  0.0  0.0  0.0  0.0  0.0  0.0  0.0  0.0  0.0  0.0  0.0  0.0\n",
       " 0.0  0.0  0.0  0.0  0.0  0.0  0.0  0.0  0.0  0.0  0.0  0.0  0.0"
      ]
     },
     "metadata": {},
     "output_type": "display_data"
    }
   ],
   "source": [
    "row_start = s1_dim[1] + s2_dim[1] +1\n",
    "row_end = s1_dim[1] + s2_dim[1] + s3_dim[1]\n",
    "col_start = 1\n",
    "col_end = s1_dim[2]\n",
    "W13 = S[row_start:row_end, col_start:col_end]"
   ]
  },
  {
   "cell_type": "markdown",
   "metadata": {},
   "source": [
    "$$W_{23}$$"
   ]
  },
  {
   "cell_type": "code",
   "execution_count": 67,
   "metadata": {},
   "outputs": [
    {
     "data": {
      "text/plain": [
       "6×12 Matrix{Float64}:\n",
       " 0.0  0.0  0.0  0.0  0.0  0.0  0.0  0.0  0.0  0.0  1.0  0.0\n",
       " 0.0  0.0  0.0  0.0  0.0  0.0  0.0  0.0  0.0  0.0  0.0  0.0\n",
       " 0.0  0.0  0.0  0.0  0.0  0.0  0.0  0.0  0.0  0.0  0.0  1.0\n",
       " 0.0  0.0  0.0  0.0  0.0  0.0  0.0  0.0  0.0  0.0  0.0  0.0\n",
       " 0.0  0.0  0.0  0.0  0.0  0.0  0.0  0.0  0.0  0.0  0.0  0.0\n",
       " 0.0  0.0  0.0  0.0  0.0  0.0  0.0  0.0  0.0  0.0  0.0  0.0"
      ]
     },
     "metadata": {},
     "output_type": "display_data"
    }
   ],
   "source": [
    "row_start = s1_dim[1] + s2_dim[1] +1\n",
    "row_end = s1_dim[1] + s2_dim[1] + s3_dim[1]\n",
    "col_start = s1_dim[2]+1\n",
    "col_end = s1_dim[2] + s2_dim[2]\n",
    "W23  = S[row_start:row_end, col_start:col_end]"
   ]
  },
  {
   "cell_type": "markdown",
   "metadata": {},
   "source": [
    "## Diagonal In-Degree Submatrices $K_{vp}$\n",
    "\n",
    "$K_{vp}$ is the in-degree submatrix from $G_v$ to $G_p$.\n",
    "\n",
    "\n",
    "> In our case we just need K?\n",
    ">\n",
    "> What shape would $K_{12}$ have? wouldn't it just be the number of connections, i.e. 7"
   ]
  },
  {
   "cell_type": "code",
   "execution_count": 97,
   "metadata": {},
   "outputs": [
    {
     "data": {
      "text/plain": [
       "3×3 Matrix{Int64}:\n",
       " 7  0  0\n",
       " 0  0  0\n",
       " 0  0  2"
      ]
     },
     "metadata": {},
     "output_type": "display_data"
    }
   ],
   "source": [
    "K = [[sum(W12 .== 1),0,0] [0,sum(W13 .== 1),0] [0,0,sum(W23 .== 1)]]"
   ]
  },
  {
   "cell_type": "markdown",
   "metadata": {},
   "source": [
    "(Now Same Clusters)"
   ]
  },
  {
   "cell_type": "code",
   "execution_count": 98,
   "metadata": {},
   "outputs": [
    {
     "data": {
      "text/plain": [
       "3×3 Matrix{Int64}:\n",
       " 40   0   0\n",
       "  0  52   0\n",
       "  0   0  14"
      ]
     },
     "metadata": {},
     "output_type": "display_data"
    }
   ],
   "source": [
    "K2 = [[sum(S1 .==1), 0, 0] [0, sum(S2 .==1), 0] [0, 0, sum(S3 .==1)]]"
   ]
  },
  {
   "cell_type": "markdown",
   "metadata": {},
   "source": [
    "## Compatibility Equations"
   ]
  },
  {
   "cell_type": "markdown",
   "metadata": {},
   "source": [
    "$$W_{vp}^\\prime \\hat a_v= \\lambda_{vp}^\\prime\\hat a_p$$\n",
    "fixed $v$, variable $p$."
   ]
  },
  {
   "cell_type": "markdown",
   "metadata": {},
   "source": [
    "$$W^\\prime_{vp} = W^T_{pp}\\quad \\text{ if }\\quad v=p\\quad \\text { or }\\quad W^\\prime_{vp} = W^T_{pv}W^T_{vp}\\quad \\text{ if }\\quad v\\ne p$$\n",
    "$$\\lambda^\\prime_{vp} = \\lambda_{pp}\\quad \\text{ if }\\quad v=p\\quad \\text { or }\\quad \\lambda^\\prime_{vp} = \\lambda_{pv}\\lambda_{vp}\\quad \\text{ if }\\quad v\\ne p$$"
   ]
  },
  {
   "cell_type": "code",
   "execution_count": 72,
   "metadata": {},
   "outputs": [
    {
     "data": {
      "text/plain": [
       "6×6 Matrix{Float64}:\n",
       " 1.0  0.0  0.0  0.0  0.0  0.0\n",
       " 0.0  0.0  0.0  0.0  0.0  0.0\n",
       " 0.0  0.0  1.0  0.0  0.0  0.0\n",
       " 0.0  0.0  0.0  0.0  0.0  0.0\n",
       " 0.0  0.0  0.0  0.0  0.0  0.0\n",
       " 0.0  0.0  0.0  0.0  0.0  0.0"
      ]
     },
     "metadata": {},
     "output_type": "display_data"
    }
   ],
   "source": [
    "# Matrices\n",
    "W₁₁ = S1'\n",
    "W₂₂ = S2'\n",
    "W₃₃ = S3'\n",
    "\n",
    "W₁₂ = W12 * W12' # we have to transpose only one? otherwise we cannot compute the product.\n",
    "W₁₃ = W13 * W13'\n",
    "W₂₃ = W23 * W23'"
   ]
  },
  {
   "cell_type": "code",
   "execution_count": 73,
   "metadata": {},
   "outputs": [
    {
     "name": "stdout",
     "output_type": "stream",
     "text": [
      "λ₁₁: 3.4203762111170852\n",
      "λ₂₂: 4.694988076660709\n",
      "λ₃₃: 2.7092753594369223\n",
      "λ₁₂: 1.0\n",
      "λ₁₃: 0.0\n",
      "λ₂₃: 1.0\n"
     ]
    }
   ],
   "source": [
    "# Eigenvalues\n",
    "λ₁₁ = eigmax(W₁₁)\n",
    "λ₂₂ = eigmax(W₂₂)\n",
    "λ₃₃ = eigmax(W₃₃)\n",
    "\n",
    "λ₁₂ = eigmax(W₁₂) * eigmax(W₁₂)\n",
    "λ₁₃ = eigmax(W₁₃) * eigmax(W₁₃)\n",
    "λ₂₃ = eigmax(W₂₃) * eigmax(W₂₃)\n",
    "\n",
    "println(\"λ₁₁: \", λ₁₁)\n",
    "println(\"λ₂₂: \", λ₂₂)\n",
    "println(\"λ₃₃: \", λ₃₃)\n",
    "println(\"λ₁₂: \", λ₁₂)\n",
    "println(\"λ₁₃: \", λ₁₃)\n",
    "println(\"λ₂₃: \", λ₂₃)"
   ]
  },
  {
   "cell_type": "markdown",
   "metadata": {},
   "source": [
    "$$\\hat a_v= x_1u_1+\\dots+x_ru_r$$\n",
    "$$\\{u_i\\}\\in\\mathbb R^{m_v}$$\n",
    "$$m_v = |G_p|$$"
   ]
  },
  {
   "cell_type": "markdown",
   "metadata": {},
   "source": [
    "$$\\hat{\\mathbf{C}}\\ \\mathbf y = (0,\\dots,0,1)^T$$\n",
    "$$\\mathbf{y}:=(x_1,\\ \\dots\\ ,\\ x_r,\\ K)$$\n",
    "$$\\hat{\\mathbf C}=\\left(\\frac{C}{1^{T}}\\frac{-1}{0}\\right)$$\n",
    "$$C=(c_{st})_{s,t} \\quad\\text{ is }\\quad r\\times r$$"
   ]
  },
  {
   "cell_type": "markdown",
   "metadata": {},
   "source": [
    "$$c_{st}:=\\sum_{p=1}^n\\langle W^\\prime_{vp} u_s- \\lambda^\\prime_{vp} u_s,\\ W^\\prime_{vp} u_t- \\lambda^\\prime_{vp} u_t\\rangle$$"
   ]
  },
  {
   "cell_type": "markdown",
   "metadata": {},
   "source": [
    "A solution that is not restricted to a particular subspace is obtained when $r = m_v$ and $u_1,\\dots, u_{m_v}$ is the canonical basis of $\\mathbb R^{m_v}$. This solution is the one with the smallest error."
   ]
  },
  {
   "cell_type": "code",
   "execution_count": 86,
   "metadata": {},
   "outputs": [
    {
     "data": {
      "text/plain": [
       "13×13 Matrix{Float64}:\n",
       " 1743.5  0.0  0.0  0.0  0.0  0.0  0.0  0.0  0.0  0.0  0.0  0.0  0.0\n",
       "    0.0  0.0  0.0  0.0  0.0  0.0  0.0  0.0  0.0  0.0  0.0  0.0  0.0\n",
       "    0.0  0.0  0.0  0.0  0.0  0.0  0.0  0.0  0.0  0.0  0.0  0.0  0.0\n",
       "    0.0  0.0  0.0  0.0  0.0  0.0  0.0  0.0  0.0  0.0  0.0  0.0  0.0\n",
       "    0.0  0.0  0.0  0.0  0.0  0.0  0.0  0.0  0.0  0.0  0.0  0.0  0.0\n",
       "    0.0  0.0  0.0  0.0  0.0  0.0  0.0  0.0  0.0  0.0  0.0  0.0  0.0\n",
       "    0.0  0.0  0.0  0.0  0.0  0.0  0.0  0.0  0.0  0.0  0.0  0.0  0.0\n",
       "    0.0  0.0  0.0  0.0  0.0  0.0  0.0  0.0  0.0  0.0  0.0  0.0  0.0\n",
       "    0.0  0.0  0.0  0.0  0.0  0.0  0.0  0.0  0.0  0.0  0.0  0.0  0.0\n",
       "    0.0  0.0  0.0  0.0  0.0  0.0  0.0  0.0  0.0  0.0  0.0  0.0  0.0\n",
       "    0.0  0.0  0.0  0.0  0.0  0.0  0.0  0.0  0.0  0.0  0.0  0.0  0.0\n",
       "    0.0  0.0  0.0  0.0  0.0  0.0  0.0  0.0  0.0  0.0  0.0  0.0  0.0\n",
       "    0.0  0.0  0.0  0.0  0.0  0.0  0.0  0.0  0.0  0.0  0.0  0.0  0.0"
      ]
     },
     "metadata": {},
     "output_type": "display_data"
    }
   ],
   "source": [
    "# CLUSTER 1\n",
    "\n",
    "# canonical basis\n",
    "canonical_basis = Diagonal(ones(13))\n",
    "\n",
    "e1 = canonical_basis[:,1]\n",
    "e2 = canonical_basis[:,2]\n",
    "e3 = canonical_basis[:,3]\n",
    "e4 = canonical_basis[:,4]\n",
    "e5 = canonical_basis[:,5]\n",
    "e6 = canonical_basis[:,6]\n",
    "e7 = canonical_basis[:,7]\n",
    "e8 = canonical_basis[:,8]\n",
    "e9 = canonical_basis[:,9]\n",
    "e10 = canonical_basis[:,10]\n",
    "e11 = canonical_basis[:,11]\n",
    "e12 = canonical_basis[:,12]\n",
    "e13 = canonical_basis[:,13]\n",
    "\n",
    "u = [e1 e2 e3 e4 e5 e6 e7 e8 e9 e10 e11 e12 e13]\n",
    "\n",
    "# Matrix C\n",
    "çr = 13\n",
    "C = zeros(r,r)\n",
    "\n",
    "# Loop over each element of the matrix and calculate the inner product\n",
    "for s in 1:r\n",
    "  for t in 1:r\n",
    "    C[s,t] = dot(W₁₁ * u[s] .- λ₁₁ * us[s], W₁₁ * u[t] .- λ₁₁ * us[t])\n",
    "                + dot(W₁₂ * u[s] .- λ₁₂ * us[s], W₁₂ * u[t] .- λ₁₂ * us[t])\n",
    "                + dot(W₁₃ * u[s] .- λ₁₃ * us[s], W₁₃ * u[t] .- λ₁₃ * us[t])\n",
    "  end\n",
    "end\n",
    "\n",
    "C"
   ]
  }
 ],
 "metadata": {
  "kernelspec": {
   "display_name": "Julia 1.10.2",
   "language": "julia",
   "name": "julia-1.10"
  },
  "language_info": {
   "file_extension": ".jl",
   "mimetype": "application/julia",
   "name": "julia",
   "version": "1.10.2"
  }
 },
 "nbformat": 4,
 "nbformat_minor": 2
}
